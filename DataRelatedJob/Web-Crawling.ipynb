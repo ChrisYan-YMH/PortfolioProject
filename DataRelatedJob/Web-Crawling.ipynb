{
 "cells": [
  {
   "attachments": {},
   "cell_type": "markdown",
   "metadata": {},
   "source": [
    "## Import required packages"
   ]
  },
  {
   "cell_type": "code",
   "execution_count": 19,
   "metadata": {},
   "outputs": [],
   "source": [
    "from selenium import webdriver\n",
    "from selenium.webdriver.common.action_chains import ActionChains\n",
    "from selenium.webdriver import Chrome, ChromeOptions\n",
    "from selenium.webdriver.common.by import By\n",
    "from selenium.webdriver.support.ui import WebDriverWait\n",
    "from selenium.webdriver.support import expected_conditions as EC\n",
    "from selenium.webdriver.common.keys import Keys\n",
    "import bs4\n",
    "from bs4 import BeautifulSoup\n",
    "import pandas as pd \n",
    "import requests\n",
    "import time\n",
    "from selenium.common.exceptions import NoSuchElementException"
   ]
  },
  {
   "attachments": {},
   "cell_type": "markdown",
   "metadata": {},
   "source": [
    "# Develop a simple version first"
   ]
  },
  {
   "attachments": {},
   "cell_type": "markdown",
   "metadata": {},
   "source": [
    "## Get the link & Basic setting"
   ]
  },
  {
   "cell_type": "code",
   "execution_count": 2,
   "metadata": {},
   "outputs": [
    {
     "name": "stderr",
     "output_type": "stream",
     "text": [
      "C:\\Users\\Yan-PC\\AppData\\Local\\Temp\\ipykernel_8648\\3270838411.py:4: DeprecationWarning: executable_path has been deprecated, please pass in a Service object\n",
      "  driver = webdriver.Chrome('/path/to/chromedriver')\n"
     ]
    }
   ],
   "source": [
    "link = 'https://hk.jobsdb.com/hk/search-jobs/data/1'\n",
    "\n",
    "#Setting up the driver\n",
    "driver = webdriver.Chrome('/path/to/chromedriver')\n",
    "driver.get(link)"
   ]
  },
  {
   "cell_type": "code",
   "execution_count": 3,
   "metadata": {},
   "outputs": [],
   "source": [
    "# Page 1 first and second job Xpath Comparsion  \n",
    "#//*[@id=\"jobList\"]/div[2]/div[2]/div/div[1]/div/div/article/div/div/div[1]\n",
    "#//*[@id=\"jobList\"]/div[2]/div[2]/div/div[2]/div/div/article/div/div/div[1]\n",
    "\n",
    "# Page 2 first job Xpath\n",
    "#//*[@id=\"jobList\"]/div[2]/div[2]/div/div[1]/div/div/article/div/div/div[1]\n",
    "\n",
    "#Find the job Xpath\n",
    "Clicks = driver.find_element(By.XPATH, '//*[@id=\"jobList\"]/div[2]/div[2]/div/div[1]/div/div/article/div/div/div[1]')\n",
    "\n",
    "#Click into the job\n",
    "Clicks.click()\n",
    "\n"
   ]
  },
  {
   "attachments": {},
   "cell_type": "markdown",
   "metadata": {},
   "source": [
    "### Read the required data from the web"
   ]
  },
  {
   "cell_type": "code",
   "execution_count": 103,
   "metadata": {},
   "outputs": [],
   "source": [
    "# Setting for bs4\n",
    "time.sleep(3)\n",
    "driver.switch_to.window(driver.window_handles[0])\n",
    "get_url = driver.current_url\n",
    "jobsdb = requests.get(get_url).text\n",
    "soup = BeautifulSoup(jobsdb, 'html.parser')"
   ]
  },
  {
   "cell_type": "code",
   "execution_count": 2,
   "metadata": {},
   "outputs": [],
   "source": [
    "# Create empty dataframe\n",
    "df_job = pd.DataFrame(columns=['Job_Title', 'Job_Highlight', 'Job_Description', 'Job_Requirement'])\n",
    "\n",
    "# Creating the dictionary for storing the data\n",
    "dic_job = { 'Job_Title' : [], \n",
    "           'Job_Highlight' : [], \n",
    "           'Job_Description' : [],\n",
    "           'Job_Requirement' : []\n",
    "            \n",
    "}"
   ]
  },
  {
   "cell_type": "code",
   "execution_count": 105,
   "metadata": {},
   "outputs": [
    {
     "name": "stdout",
     "output_type": "stream",
     "text": [
      "                                          Job_Title  \\\n",
      "0  ASSISTANT MANAGER – ANALYTICS & DATA ENGINEERING   \n",
      "\n",
      "                                       Job_Highlight  \\\n",
      "0  [ETL & automate data process, Data analytics o...   \n",
      "\n",
      "                                     Job_Description  \\\n",
      "0  [Organize and prepare regular business analysi...   \n",
      "\n",
      "                                     Job_Requirement  \n",
      "0  [Bachelor’s degree in Computer Science, Inform...  \n"
     ]
    },
    {
     "name": "stderr",
     "output_type": "stream",
     "text": [
      "C:\\Users\\Yan-PC\\AppData\\Local\\Temp\\ipykernel_26200\\248005108.py:24: FutureWarning: The frame.append method is deprecated and will be removed from pandas in a future version. Use pandas.concat instead.\n",
      "  df_job = df_job.append(dic_job, ignore_index=True)\n"
     ]
    }
   ],
   "source": [
    "# Place store the job title \n",
    "dic_job['Job_Title'] = driver.find_element(By.TAG_NAME, 'h1').text\n",
    "\n",
    "# Place store the job highlight \n",
    "highlight_web = soup.find('ul', 'sx2jih0 sx2jih3 _17fduda0 _17fduda6').find_all('span','sx2jih0 zcydq84u es8sxo0 es8sxo1 es8sxo21 _1d0g9qk4 es8sxoa')\n",
    "highlight_lst= [word.text for word in highlight_web]\n",
    "dic_job['Job_Highlight'] = highlight_lst\n",
    "\n",
    "# Jr and Jd are in the same section in the html code Thus, I find them all tgt\n",
    "# Find the location of the jr and jd\n",
    "jr_web = soup.find('div', '_1x1c7ng0').find('div', 'sx2jih0').find_all('ul')\n",
    "lst_li = [word.find_all('li') for i, word in enumerate (jr_web) if i != 3]\n",
    "# Locate jr and jd in which span respectively\n",
    "lst_span_jr = [word.find_all('span') for word in lst_li[0]]\n",
    "lst_span_jd = [word.find_all('span') for word in lst_li[1]]\n",
    "# Get the text into the list\n",
    "lst_jr = [word[0].text for word in lst_span_jr ]\n",
    "lst_jd = [word[0].text for word in lst_span_jd ]\n",
    "# Add jr and jd into dictionary\n",
    "dic_job['Job_Requirement'] = lst_jr\n",
    "dic_job['Job_Description'] = lst_jd\n",
    "\n",
    "# Add the new observation to the dataframe\n",
    "df_job = df_job.append(dic_job, ignore_index=True)\n",
    "\n",
    "print(df_job)\n"
   ]
  },
  {
   "attachments": {},
   "cell_type": "markdown",
   "metadata": {},
   "source": [
    "# Try a more complex version"
   ]
  },
  {
   "cell_type": "code",
   "execution_count": 27,
   "metadata": {},
   "outputs": [],
   "source": [
    "# Create empty dataframe\n",
    "df_job = pd.DataFrame(columns=['Job_Title', 'Location','Job_Highlight', 'JRJD'])\n",
    "\n",
    "# Creating the dictionary for storing the data\n",
    "dic_job = { 'Job_Title' : [],\n",
    "           'Company_Name' : [],\n",
    "           'Location' : [], \n",
    "           'Job_Highlight' : [], \n",
    "           'JRJD' : []\n",
    "}"
   ]
  },
  {
   "cell_type": "code",
   "execution_count": 3,
   "metadata": {},
   "outputs": [],
   "source": [
    "# define a function for checking if the jr and jd are contain in <span> or <p>\n",
    "class find_jrjd:\n",
    "\n",
    "    def __init__(self, soup):\n",
    "        self.soup = soup\n",
    "    \n",
    "    # check if there are ul. If no, find <p> to deal with it\n",
    "    def check_ul(self):\n",
    "        try:\n",
    "            find_ul = self.soup.find('div', '_1x1c7ng0').find_all('ul')\n",
    "            return 'with ul' \n",
    "        except NoSuchElementExceptionError:\n",
    "            return 'no ul'\n",
    "    \n",
    "    def get_no_ul(self):\n",
    "        try:\n",
    "            find_span = self.soup.find('div', '_1x1c7ng0').find_all('span')\n",
    "            span_ind = 1\n",
    "        except NoSuchElementExceptionError:\n",
    "            find_p = self.soup.find('div', '_1x1c7ng0').find_all('p')\n",
    "            p_ind = 1\n",
    "        if span_ind == 1:\n",
    "            content = [ word.text for i, word in enumerate(find_span) if i < 3]\n",
    "        elif p_ind == 1:\n",
    "            content = [ word.text for i, word in enumerate(find_p)]\n",
    "        return content\n",
    "    \n",
    "    def get_word_in_ul(self):\n",
    "        find_ul = self.soup.find('div', '_1x1c7ng0').find_all('ul')\n",
    "        li_text = [word.text + ' ' for word in find_ul[:2] ]\n",
    "        return li_text\n",
    "    \n",
    "    def with_loc(self):\n",
    "        try:\n",
    "            location = self.soup.find('div', 'z1s6m00 _1hbhsw66i').find('div','z1s6m00 _1hbhsw65a').find('span', 'z1s6m00 _1hbhsw64y y44q7i0 y44q7i1 y44q7i21 y44q7ii')\n",
    "            #location = self.soup.find('div', 'z1s6m00 _1hbhsw65a').find('span')\n",
    "            return location.text\n",
    "        except AttributeError:\n",
    "            return 'Without_location'\n",
    "        except NoSuchElementException:\n",
    "            return 'Without_location'\n",
    "\n",
    "    def get_name(self):\n",
    "        try:\n",
    "            find_name = self.soup.find('div', 'z1s6m00 _5135ge0 _5135ge6').find('span', 'z1s6m00 _1hbhsw64y y44q7i0 y44q7i2 y44q7i21 _1d0g9qk4 y44q7ia')\n",
    "            return find_name.text\n",
    "        except AttributeError:\n",
    "            return 'Unknown'\n",
    "\n",
    "def click(job_path):\n",
    "    try:\n",
    "        button = driver.find_element(By.XPATH, job_path)\n",
    "        return 'valid'\n",
    "    except NoSuchElementException:\n",
    "        return 'invalid'\n",
    "        "
   ]
  },
  {
   "cell_type": "code",
   "execution_count": 37,
   "metadata": {},
   "outputs": [
    {
     "name": "stderr",
     "output_type": "stream",
     "text": [
      "C:\\Users\\Yan-PC\\AppData\\Local\\Temp\\ipykernel_29128\\824745876.py:9: DeprecationWarning: executable_path has been deprecated, please pass in a Service object\n",
      "  driver = webdriver.Chrome('/path/to/chromedriver')\n",
      "C:\\Users\\Yan-PC\\AppData\\Local\\Temp\\ipykernel_29128\\824745876.py:59: FutureWarning: The frame.append method is deprecated and will be removed from pandas in a future version. Use pandas.concat instead.\n",
      "  df_job = df_job.append(dic_job, ignore_index=True)\n",
      "C:\\Users\\Yan-PC\\AppData\\Local\\Temp\\ipykernel_29128\\824745876.py:59: FutureWarning: The frame.append method is deprecated and will be removed from pandas in a future version. Use pandas.concat instead.\n",
      "  df_job = df_job.append(dic_job, ignore_index=True)\n",
      "C:\\Users\\Yan-PC\\AppData\\Local\\Temp\\ipykernel_29128\\824745876.py:59: FutureWarning: The frame.append method is deprecated and will be removed from pandas in a future version. Use pandas.concat instead.\n",
      "  df_job = df_job.append(dic_job, ignore_index=True)\n",
      "C:\\Users\\Yan-PC\\AppData\\Local\\Temp\\ipykernel_29128\\824745876.py:59: FutureWarning: The frame.append method is deprecated and will be removed from pandas in a future version. Use pandas.concat instead.\n",
      "  df_job = df_job.append(dic_job, ignore_index=True)\n",
      "C:\\Users\\Yan-PC\\AppData\\Local\\Temp\\ipykernel_29128\\824745876.py:59: FutureWarning: The frame.append method is deprecated and will be removed from pandas in a future version. Use pandas.concat instead.\n",
      "  df_job = df_job.append(dic_job, ignore_index=True)\n",
      "C:\\Users\\Yan-PC\\AppData\\Local\\Temp\\ipykernel_29128\\824745876.py:59: FutureWarning: The frame.append method is deprecated and will be removed from pandas in a future version. Use pandas.concat instead.\n",
      "  df_job = df_job.append(dic_job, ignore_index=True)\n",
      "C:\\Users\\Yan-PC\\AppData\\Local\\Temp\\ipykernel_29128\\824745876.py:59: FutureWarning: The frame.append method is deprecated and will be removed from pandas in a future version. Use pandas.concat instead.\n",
      "  df_job = df_job.append(dic_job, ignore_index=True)\n",
      "C:\\Users\\Yan-PC\\AppData\\Local\\Temp\\ipykernel_29128\\824745876.py:59: FutureWarning: The frame.append method is deprecated and will be removed from pandas in a future version. Use pandas.concat instead.\n",
      "  df_job = df_job.append(dic_job, ignore_index=True)\n",
      "C:\\Users\\Yan-PC\\AppData\\Local\\Temp\\ipykernel_29128\\824745876.py:59: FutureWarning: The frame.append method is deprecated and will be removed from pandas in a future version. Use pandas.concat instead.\n",
      "  df_job = df_job.append(dic_job, ignore_index=True)\n",
      "C:\\Users\\Yan-PC\\AppData\\Local\\Temp\\ipykernel_29128\\824745876.py:59: FutureWarning: The frame.append method is deprecated and will be removed from pandas in a future version. Use pandas.concat instead.\n",
      "  df_job = df_job.append(dic_job, ignore_index=True)\n",
      "C:\\Users\\Yan-PC\\AppData\\Local\\Temp\\ipykernel_29128\\824745876.py:59: FutureWarning: The frame.append method is deprecated and will be removed from pandas in a future version. Use pandas.concat instead.\n",
      "  df_job = df_job.append(dic_job, ignore_index=True)\n",
      "C:\\Users\\Yan-PC\\AppData\\Local\\Temp\\ipykernel_29128\\824745876.py:59: FutureWarning: The frame.append method is deprecated and will be removed from pandas in a future version. Use pandas.concat instead.\n",
      "  df_job = df_job.append(dic_job, ignore_index=True)\n",
      "C:\\Users\\Yan-PC\\AppData\\Local\\Temp\\ipykernel_29128\\824745876.py:59: FutureWarning: The frame.append method is deprecated and will be removed from pandas in a future version. Use pandas.concat instead.\n",
      "  df_job = df_job.append(dic_job, ignore_index=True)\n",
      "C:\\Users\\Yan-PC\\AppData\\Local\\Temp\\ipykernel_29128\\824745876.py:59: FutureWarning: The frame.append method is deprecated and will be removed from pandas in a future version. Use pandas.concat instead.\n",
      "  df_job = df_job.append(dic_job, ignore_index=True)\n",
      "C:\\Users\\Yan-PC\\AppData\\Local\\Temp\\ipykernel_29128\\824745876.py:59: FutureWarning: The frame.append method is deprecated and will be removed from pandas in a future version. Use pandas.concat instead.\n",
      "  df_job = df_job.append(dic_job, ignore_index=True)\n",
      "C:\\Users\\Yan-PC\\AppData\\Local\\Temp\\ipykernel_29128\\824745876.py:59: FutureWarning: The frame.append method is deprecated and will be removed from pandas in a future version. Use pandas.concat instead.\n",
      "  df_job = df_job.append(dic_job, ignore_index=True)\n",
      "C:\\Users\\Yan-PC\\AppData\\Local\\Temp\\ipykernel_29128\\824745876.py:59: FutureWarning: The frame.append method is deprecated and will be removed from pandas in a future version. Use pandas.concat instead.\n",
      "  df_job = df_job.append(dic_job, ignore_index=True)\n",
      "C:\\Users\\Yan-PC\\AppData\\Local\\Temp\\ipykernel_29128\\824745876.py:59: FutureWarning: The frame.append method is deprecated and will be removed from pandas in a future version. Use pandas.concat instead.\n",
      "  df_job = df_job.append(dic_job, ignore_index=True)\n",
      "C:\\Users\\Yan-PC\\AppData\\Local\\Temp\\ipykernel_29128\\824745876.py:59: FutureWarning: The frame.append method is deprecated and will be removed from pandas in a future version. Use pandas.concat instead.\n",
      "  df_job = df_job.append(dic_job, ignore_index=True)\n",
      "C:\\Users\\Yan-PC\\AppData\\Local\\Temp\\ipykernel_29128\\824745876.py:59: FutureWarning: The frame.append method is deprecated and will be removed from pandas in a future version. Use pandas.concat instead.\n",
      "  df_job = df_job.append(dic_job, ignore_index=True)\n",
      "C:\\Users\\Yan-PC\\AppData\\Local\\Temp\\ipykernel_29128\\824745876.py:59: FutureWarning: The frame.append method is deprecated and will be removed from pandas in a future version. Use pandas.concat instead.\n",
      "  df_job = df_job.append(dic_job, ignore_index=True)\n",
      "C:\\Users\\Yan-PC\\AppData\\Local\\Temp\\ipykernel_29128\\824745876.py:59: FutureWarning: The frame.append method is deprecated and will be removed from pandas in a future version. Use pandas.concat instead.\n",
      "  df_job = df_job.append(dic_job, ignore_index=True)\n",
      "C:\\Users\\Yan-PC\\AppData\\Local\\Temp\\ipykernel_29128\\824745876.py:59: FutureWarning: The frame.append method is deprecated and will be removed from pandas in a future version. Use pandas.concat instead.\n",
      "  df_job = df_job.append(dic_job, ignore_index=True)\n",
      "C:\\Users\\Yan-PC\\AppData\\Local\\Temp\\ipykernel_29128\\824745876.py:59: FutureWarning: The frame.append method is deprecated and will be removed from pandas in a future version. Use pandas.concat instead.\n",
      "  df_job = df_job.append(dic_job, ignore_index=True)\n",
      "C:\\Users\\Yan-PC\\AppData\\Local\\Temp\\ipykernel_29128\\824745876.py:59: FutureWarning: The frame.append method is deprecated and will be removed from pandas in a future version. Use pandas.concat instead.\n",
      "  df_job = df_job.append(dic_job, ignore_index=True)\n",
      "C:\\Users\\Yan-PC\\AppData\\Local\\Temp\\ipykernel_29128\\824745876.py:59: FutureWarning: The frame.append method is deprecated and will be removed from pandas in a future version. Use pandas.concat instead.\n",
      "  df_job = df_job.append(dic_job, ignore_index=True)\n",
      "C:\\Users\\Yan-PC\\AppData\\Local\\Temp\\ipykernel_29128\\824745876.py:59: FutureWarning: The frame.append method is deprecated and will be removed from pandas in a future version. Use pandas.concat instead.\n",
      "  df_job = df_job.append(dic_job, ignore_index=True)\n",
      "C:\\Users\\Yan-PC\\AppData\\Local\\Temp\\ipykernel_29128\\824745876.py:59: FutureWarning: The frame.append method is deprecated and will be removed from pandas in a future version. Use pandas.concat instead.\n",
      "  df_job = df_job.append(dic_job, ignore_index=True)\n",
      "C:\\Users\\Yan-PC\\AppData\\Local\\Temp\\ipykernel_29128\\824745876.py:59: FutureWarning: The frame.append method is deprecated and will be removed from pandas in a future version. Use pandas.concat instead.\n",
      "  df_job = df_job.append(dic_job, ignore_index=True)\n"
     ]
    }
   ],
   "source": [
    "# Input the page no. to conduct the crawling\n",
    "page = int(input('Please input the page numer!'))\n",
    "\n",
    "for i in range(page):\n",
    "    # Give the link\n",
    "    link = f'https://hk.jobsdb.com/hk/search-jobs/data/{i+1}'\n",
    "\n",
    "    #Setting up the driver\n",
    "    driver = webdriver.Chrome('/path/to/chromedriver')\n",
    "    driver.set_window_size(400, 400)\n",
    "    driver.get(link)\n",
    "    time.sleep(1.5)\n",
    "\n",
    "    for var_job_no in range(30):\n",
    "        #Find the job Xpath\n",
    "        job_path = f'//*[@id=\"jobList\"]/div/div[2]/div/div[{var_job_no+1}]/div/div/article/div/div/div[1]/div[1]/div[2]/h1/a'\n",
    "        if click(job_path) == 'valid':\n",
    "            #For clicking button\n",
    "            button = driver.find_element(By.XPATH, job_path)\n",
    "            new_link = button.get_attribute(\"href\")\n",
    "            driver.execute_script(\"window.open('');\")\n",
    "            driver.switch_to.window(driver.window_handles[1])\n",
    "            driver.get(new_link)\n",
    "            time.sleep(2)\n",
    "        else:\n",
    "            continue\n",
    "\n",
    "        if len(driver.window_handles) == 2:\n",
    "\n",
    "            driver.switch_to.window(driver.window_handles[1])\n",
    "            get_url = driver.current_url\n",
    "            jobsdb = requests.get(get_url).text\n",
    "            soup = BeautifulSoup(jobsdb, 'html.parser')\n",
    "\n",
    "            # Place store the job title \n",
    "            dic_job['Job_Title'] = driver.find_element(By.TAG_NAME, 'h1').text\n",
    "\n",
    "            # Company Name\n",
    "            dic_job['Company_Name'] = soup.find('div', 'z1s6m00 _5135ge0 _5135ge6').find('span', 'z1s6m00 _1hbhsw64y y44q7i0 y44q7i2 y44q7i21 _1d0g9qk4 y44q7ia').text\n",
    "\n",
    "            # Place store the job highlight \n",
    "            highlight_web = soup.find('ul', 'z1s6m00 z1s6m03 _5135ge0 _5135ge6').find_all('li')\n",
    "            highlight_lst= [word.text for word in highlight_web]\n",
    "            dic_job['Job_Highlight'] = highlight_lst\n",
    "\n",
    "            # Get the JD JR\n",
    "            var = find_jrjd(soup)\n",
    "\n",
    "            # Get the job location\n",
    "            dic_job['Location'] = var.with_loc()\n",
    "            \n",
    "            if var.check_ul == 'with ul':\n",
    "                text_jrjd = var.get_word_in_ul()\n",
    "            else:\n",
    "                text_jrjd = var.get_no_ul()\n",
    "            dic_job['JRJD'] = text_jrjd\n",
    "\n",
    "            # Add the new observation to the dataframe\n",
    "            df_job = df_job.append(dic_job, ignore_index=True)\n",
    "\n",
    "            # Back to the menu page \n",
    "            driver.close()\n",
    "            time.sleep(1)\n",
    "            \n",
    "            driver.switch_to.window(driver.window_handles[0])\n",
    "            time.sleep(1)\n",
    "\n",
    "        if click(job_path) == 'invalid':\n",
    "            # Back to the menu page                   \n",
    "            driver.switch_to.window(driver.window_handles[0])\n",
    "            time.sleep(1)\n",
    "\n",
    " "
   ]
  },
  {
   "cell_type": "code",
   "execution_count": 40,
   "metadata": {},
   "outputs": [
    {
     "data": {
      "text/plain": [
       "['Responsibilities:Support Manager to handle regular reports (such as sales & revenue reports) for review, ensuring data is accurate;Assist Manager to consolidate & submit raw data in system(s);Provide insights from the processed data;Assist Manager to complete ad. hoc project when necessary.Requirements:Diploma graduates or aboveMinimum one-year data reporting and analytic experience would be an advantage; fresh graduate will also be consideredProficiency in data analysis tools such as Power BI, Google Looker Studio, Excel Power Query, SQLImmediately available is highly preferred',\n",
       " 'Responsibilities:',\n",
       " 'Support Manager to handle regular reports (such as sales & revenue reports) for review, ensuring data is accurate;']"
      ]
     },
     "execution_count": 40,
     "metadata": {},
     "output_type": "execute_result"
    }
   ],
   "source": [
    "df_job.JRJD.tolist()[0]"
   ]
  },
  {
   "cell_type": "code",
   "execution_count": 57,
   "metadata": {},
   "outputs": [],
   "source": [
    "df_job.to_csv('./Data/DataJob.csv', index=False, encoding='utf_8_sig')"
   ]
  }
 ],
 "metadata": {
  "kernelspec": {
   "display_name": "Python 3",
   "language": "python",
   "name": "python3"
  },
  "language_info": {
   "codemirror_mode": {
    "name": "ipython",
    "version": 3
   },
   "file_extension": ".py",
   "mimetype": "text/x-python",
   "name": "python",
   "nbconvert_exporter": "python",
   "pygments_lexer": "ipython3",
   "version": "3.10.2"
  },
  "orig_nbformat": 4
 },
 "nbformat": 4,
 "nbformat_minor": 2
}
