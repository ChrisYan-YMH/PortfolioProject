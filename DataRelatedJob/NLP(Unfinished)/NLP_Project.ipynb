{
 "cells": [
  {
   "attachments": {},
   "cell_type": "markdown",
   "metadata": {},
   "source": [
    "# Import packages "
   ]
  },
  {
   "cell_type": "code",
   "execution_count": 1,
   "metadata": {},
   "outputs": [],
   "source": [
    "import pandas as pd\n",
    "import numpy as np"
   ]
  },
  {
   "attachments": {},
   "cell_type": "markdown",
   "metadata": {},
   "source": [
    "# Read the .csv"
   ]
  },
  {
   "cell_type": "code",
   "execution_count": 15,
   "metadata": {},
   "outputs": [
    {
     "data": {
      "text/html": [
       "<div>\n",
       "<style scoped>\n",
       "    .dataframe tbody tr th:only-of-type {\n",
       "        vertical-align: middle;\n",
       "    }\n",
       "\n",
       "    .dataframe tbody tr th {\n",
       "        vertical-align: top;\n",
       "    }\n",
       "\n",
       "    .dataframe thead th {\n",
       "        text-align: right;\n",
       "    }\n",
       "</style>\n",
       "<table border=\"1\" class=\"dataframe\">\n",
       "  <thead>\n",
       "    <tr style=\"text-align: right;\">\n",
       "      <th></th>\n",
       "      <th>Job_Title</th>\n",
       "      <th>Location</th>\n",
       "      <th>Job_Highlight</th>\n",
       "      <th>JRJD</th>\n",
       "      <th>Company_Name</th>\n",
       "    </tr>\n",
       "  </thead>\n",
       "  <tbody>\n",
       "    <tr>\n",
       "      <th>0</th>\n",
       "      <td>ASSISTANT MANAGER - DATA ANALYTICS</td>\n",
       "      <td>Wan Chai</td>\n",
       "      <td>Min 5-7 years’ experience in data anal...</td>\n",
       "      <td>['       Requirement       s Bachelor        d...</td>\n",
       "      <td>Sun Hung Kai Properties</td>\n",
       "    </tr>\n",
       "    <tr>\n",
       "      <th>1</th>\n",
       "      <td>IT Assistant (Data Management)</td>\n",
       "      <td>Mong Kok</td>\n",
       "      <td>5-days work, bank holiday', 'Data ad       mi...</td>\n",
       "      <td>['       Job Responsibilities       :       To...</td>\n",
       "      <td>EIDEALINK LIMITED</td>\n",
       "    </tr>\n",
       "    <tr>\n",
       "      <th>2</th>\n",
       "      <td>Associate Vice President, Dashboard Reporting ...</td>\n",
       "      <td>Wan Chai</td>\n",
       "      <td>Degree in Statistics, Business Analysi...</td>\n",
       "      <td>['       Responsibilities       Direct report ...</td>\n",
       "      <td>United Asia Finance Limited</td>\n",
       "    </tr>\n",
       "    <tr>\n",
       "      <th>3</th>\n",
       "      <td>Data Center Customer Operations Engineer / Fie...</td>\n",
       "      <td>Tsuen Wan Area</td>\n",
       "      <td>Open to        Fresh Graduate applicants', 'O...</td>\n",
       "      <td>['       Who are we?       Equinix is one of t...</td>\n",
       "      <td>Equinix Hong Kong Ltd</td>\n",
       "    </tr>\n",
       "    <tr>\n",
       "      <th>4</th>\n",
       "      <td>IT Data Centre Operator</td>\n",
       "      <td>Tsuen Wan Area</td>\n",
       "      <td>Monitor &amp; manage data center facilities', '  ...</td>\n",
       "      <td>['           What you’ll be doing?       Perfo...</td>\n",
       "      <td>OCBC Wing Hang Bank Limited</td>\n",
       "    </tr>\n",
       "  </tbody>\n",
       "</table>\n",
       "</div>"
      ],
      "text/plain": [
       "                                           Job_Title        Location  \\\n",
       "0                 ASSISTANT MANAGER - DATA ANALYTICS        Wan Chai   \n",
       "1                     IT Assistant (Data Management)        Mong Kok   \n",
       "2  Associate Vice President, Dashboard Reporting ...        Wan Chai   \n",
       "3  Data Center Customer Operations Engineer / Fie...  Tsuen Wan Area   \n",
       "4                            IT Data Centre Operator  Tsuen Wan Area   \n",
       "\n",
       "                                       Job_Highlight  \\\n",
       "0          Min 5-7 years’ experience in data anal...   \n",
       "1   5-days work, bank holiday', 'Data ad       mi...   \n",
       "2          Degree in Statistics, Business Analysi...   \n",
       "3   Open to        Fresh Graduate applicants', 'O...   \n",
       "4   Monitor & manage data center facilities', '  ...   \n",
       "\n",
       "                                                JRJD  \\\n",
       "0  ['       Requirement       s Bachelor        d...   \n",
       "1  ['       Job Responsibilities       :       To...   \n",
       "2  ['       Responsibilities       Direct report ...   \n",
       "3  ['       Who are we?       Equinix is one of t...   \n",
       "4  ['           What you’ll be doing?       Perfo...   \n",
       "\n",
       "                  Company_Name  \n",
       "0      Sun Hung Kai Properties  \n",
       "1            EIDEALINK LIMITED  \n",
       "2  United Asia Finance Limited  \n",
       "3        Equinix Hong Kong Ltd  \n",
       "4  OCBC Wing Hang Bank Limited  "
      ]
     },
     "execution_count": 15,
     "metadata": {},
     "output_type": "execute_result"
    }
   ],
   "source": [
    "df_job = pd.read_csv('cleaned_datajob.csv', encoding='utf-8-sig')\n",
    "df_job.head()"
   ]
  },
  {
   "cell_type": "code",
   "execution_count": 16,
   "metadata": {},
   "outputs": [],
   "source": [
    "lst_jrjd = df_job.JRJD.tolist()\n",
    "lst_jobhighligh = df_job.Job_Highlight.tolist()"
   ]
  },
  {
   "cell_type": "code",
   "execution_count": 4,
   "metadata": {},
   "outputs": [
    {
     "data": {
      "text/plain": [
       "'[\"    We would like to invite undergraduates who are passionate to develop their future careers in the financial services industry to participate in our Summer Internship Program.    The purpose of our program is to provide students with an opportunity to gain hands-on work experience in the corporate environment.     If you believe you are capable, motivated, and deliver, we want you to join our AGBA family this Summer. Program Period:        Jun – Aug 2023    Responsibilities    :    Provide ad    ministrative support to product team in implementing product strategies of GI, Life Insurance and MPF products;    Support product team to have the product due diligence, product comparison, update product information, product -launch, market analysis, etc.;    Support product team in preparing presentation and sales collateral;    Assist in B2C digital platform development;    Participate in system development project on User Acceptance Test (UAT) to support rollout of Core Wealth Management systems;    Perform any ad-hoc projects as assigned.    Requirement    s :        University students in Business Management, Economics, Finance, Insurance or a related discipline    ;    Strong level of learning agility with positive attitude;    Proven self-starter with a \\'can do\\' attitude and detailed     mind;    Good team player with strong analytical and problem-solving skills;    Good communication and interpersonal skills;    Proficient in MS Office Applications including Word and Excel;    Good command of written and spoken English and Chinese. We offer competitive remuneration including career prospects to the right candidate. Interested parties please submit your application viaOur Talent PlatformEmail by clicking “Apply Now”    The employee for above position will be employed under AGBA¹ Group Limited.(All applications will be treated in strict confidence and used for recruitment purpose by AGBA Group Limited and its affiliates only. All applicants are kept on file 6 months from the date of the application.)1.    AGBA is a one-of-a-kind wealth and health platform, helping people enjoy wealth and health with the ease they deserve. AGBA Group (“AGBA”     or “The Group”    ) is a Nasdaq-listed company (NASDAQ:     AGBA), the Group’s activities span a business-to-business (B2B) platform, healthcare and wellness services, fintech businesses, as well as financial advisory services. \", \\'We would like to invite undergraduates who are passionate to develop their future careers in the financial services industry to participate in our Summer Internship Program.    \\', \\'The purpose of our program is to provide students with an opportunity to gain hands-on work experience in the corporate environment.     If you believe you are capable, motivated, and deliver, we want you to join our AGBA family this Summer.\\']    '"
      ]
     },
     "execution_count": 4,
     "metadata": {},
     "output_type": "execute_result"
    }
   ],
   "source": [
    "lst_jrjd[39]"
   ]
  },
  {
   "attachments": {},
   "cell_type": "markdown",
   "metadata": {},
   "source": [
    "# NLP Process for job highlight"
   ]
  },
  {
   "cell_type": "code",
   "execution_count": 5,
   "metadata": {},
   "outputs": [],
   "source": [
    "import spacy\n",
    "import re"
   ]
  },
  {
   "attachments": {},
   "cell_type": "markdown",
   "metadata": {},
   "source": [
    "## Entity Ruler For Extracting Experience information "
   ]
  },
  {
   "cell_type": "code",
   "execution_count": 27,
   "metadata": {},
   "outputs": [],
   "source": [
    "config = {\n",
    "   \"overwrite_ents\": True,\n",
    "   \"validate\" : True\n",
    "}\n",
    "\n",
    "nlp = spacy.load(\"en_core_web_sm\")\n",
    "ruler = nlp.add_pipe('entity_ruler', before=\"ner\", config=config)\n",
    "#ruler = nlp.add_pipe('entity_ruler', after=\"ner\", config=config)\n",
    "#ruler = nlp.add_pipe('entity_ruler', config=config)\n",
    "\n",
    "# Min 5-7 year\n",
    "# 1-2 years working experience\n",
    "# 10+ years\n",
    "\n",
    "min_lst = [\"min\", \"min.\", \"minimum\"]\n",
    "\n",
    "\n",
    "\n",
    "pattern_exp = [\n",
    "    {\"label\" : \"EXPERIENCE\",\n",
    "     \"pattern\" : [ {\"LOWER\": {\"IN\": min_lst}},\n",
    "                   {\"IS_DIGIT\" : True},\n",
    "                   {\"IS_PUNCT\" : True, \"OP\" : \"?\"},\n",
    "                   {\"IS_DIGIT\" : True, \"OP\" : \"?\"},\n",
    "                   {\"LEMMA\" : \"year\", \"LOWER\" : \"years\",\"OP\" : \"+\"}]},\n",
    "\n",
    "    {\"label\" : \"EXPERIENCE\",\n",
    "     \"pattern\" : [ {\"LOWER\": {\"IN\": min_lst}, \"OP\" : \"?\"},\n",
    "                   {\"IS_ALPHA\" : True, \"OP\" : \"?\"},\n",
    "                   {\"IS_DIGIT\" : True}, \n",
    "                   {\"IS_PUNCT\" : True, \"OP\" : \"?\"},\n",
    "                   {\"IS_DIGIT\" : True, \"OP\" : \"?\"},\n",
    "                   {\"IS_SPACE\" : True, \"OP\" : \"?\"},\n",
    "                   {\"IS_SPACE\" : True, \"OP\" : \"?\"},\n",
    "                   {\"LEMMA\" : \"year\", \"LOWER\" : \"years\",\"OP\" : \"+\"},\n",
    "                   {\"LEMMA\" : \"of\", \"LOWER\" : \"of\",\"OP\" : \"?\"},\n",
    "                   {\"LEMMA\" : \"work\", \"LOWER\" : \"work\",\"OP\" : \"?\"},\n",
    "                   {\"LEMMA\" : \"experience\", \"LOWER\" : \"experience\",\"OP\" : \"?\"}]},\n",
    "\n",
    "    {\"label\" : \"EXPERIENCE\",\n",
    "     \"pattern\" : [ {\"IS_DIGIT\" : True},\n",
    "                   {\"TEXT\" : \"+\", \"OP\" : \"?\"},\n",
    "                   {\"IS_SPACE\" : True, \"OP\" : \"?\"},\n",
    "                   {\"IS_SPACE\" : True, \"OP\" : \"?\"},\n",
    "                   {\"LEMMA\" : \"year\", \"LOWER\" : \"years\",\"OP\" : \"+\"},\n",
    "                   {\"LEMMA\" : \"work\", \"LOWER\" : \"work\",\"OP\" : \"?\"},\n",
    "                   {\"LEMMA\" : \"experience\", \"LOWER\" : \"experience\",\"OP\" : \"?\"}]},\n",
    "                \n",
    "    {\"label\" : \"EXPERIENCE\",\n",
    "     \"pattern\" : [ {\"LOWER\" : \"at\", \"OP\" : \"?\"},\n",
    "                   {\"LOWER\" : \"least\", \"OP\" : \"+\"},\n",
    "                   {\"IS_DIGIT\" : True},\n",
    "                   {\"LEMMA\" : \"year\", \"LOWER\" : \"years\",\"OP\" : \"+\"},\n",
    "                   {\"POS\" : \"ADJ\", \"OP\" : \"?\"},\n",
    "                   {\"LEMMA\" : \"work\", \"LOWER\" : \"work\",\"OP\" : \"?\"},\n",
    "                   {\"LEMMA\" : \"experience\", \"LOWER\" : \"experience\",\"OP\" : \"?\"}]},\n",
    "\n",
    "    # 1 year working experience\n",
    "    {\"label\" : \"EXPERIENCE\",\n",
    "     \"pattern\" : [ {\"IS_DIGIT\" : True},\n",
    "                   {\"LOWER\" : \"year\", \"LEMMA\" : \"year\" },\n",
    "                   {\"LOWER\" : \"working\"},\n",
    "                   {\"LOWER\" : \"experience\"} ]},\n",
    "\n",
    "    {\"label\" : \"EXPERIENCE\",\n",
    "     \"pattern\" : [ \n",
    "         {\"lower\" : \"at\"},\n",
    "         {\"lower\" : \"least\"},\n",
    "         {\"IS_DIGIT\" : True},\n",
    "         {'lower' : 'year'},\n",
    "         {\"POS\" : \"ADJ\"},\n",
    "         {\"POS\" : \"NOUN\"}\n",
    "      ]}\n",
    "\n",
    "    ]\n",
    "\n",
    "ruler.add_patterns(pattern_exp)"
   ]
  },
  {
   "cell_type": "code",
   "execution_count": 28,
   "metadata": {},
   "outputs": [
    {
     "name": "stdout",
     "output_type": "stream",
     "text": [
      "Minimum of 5 years EXPERIENCE\n",
      "NOUN\n",
      "ADP\n",
      "NUM\n",
      "NOUN\n"
     ]
    }
   ],
   "source": [
    "text = 'Minimum of 5 years'\n",
    "nlp(text)\n",
    "\n",
    "ent_text = nlp(text)\n",
    "\n",
    "for ent in ent_text.ents:\n",
    "    #if ent.label_ == \"EXPERIENCE\":\n",
    "    #    print(ent.text, ent.label_)\n",
    "    print(ent.text, ent.label_)\n",
    "\n",
    "for item in ent_text:\n",
    "    print(item.pos_)"
   ]
  },
  {
   "cell_type": "code",
   "execution_count": 29,
   "metadata": {},
   "outputs": [
    {
     "name": "stdout",
     "output_type": "stream",
     "text": [
      "ETL ORG\n",
      "Data Visualization ORG\n",
      "Data Modelling ORG\n",
      "Dashboard BuildingJob PERSON\n",
      "Preferably 2 years of EXPERIENCE\n",
      "Data Analysis ORG\n",
      "Business Intelligence ORG\n",
      "SQL ORG\n",
      "English LANGUAGE\n",
      "Chinese NORP\n",
      "Graduates LOC\n",
      "Kerry Logistics Network Company Webpage ORG\n",
      "CV PERSON\n",
      "Group ORG\n",
      "Human Resources & Ad ORG\n",
      "Kerry Logistics PERSON\n",
      "2614 DATE\n",
      "the Kerry Group ORG\n"
     ]
    }
   ],
   "source": [
    "text = lst_jrjd[58]\n",
    "nlp(text)\n",
    "\n",
    "ent_text = nlp(text)\n",
    "\n",
    "for ent in ent_text.ents:\n",
    "    #if ent.label_ == \"EXPERIENCE\":\n",
    "    #    print(ent.text, ent.label_)\n",
    "    print(ent.text, ent.label_)"
   ]
  },
  {
   "attachments": {},
   "cell_type": "markdown",
   "metadata": {},
   "source": [
    "## Matcher For if the position is open to FG"
   ]
  },
  {
   "cell_type": "code",
   "execution_count": 14,
   "metadata": {},
   "outputs": [],
   "source": [
    "from spacy.matcher import Matcher"
   ]
  },
  {
   "cell_type": "code",
   "execution_count": 15,
   "metadata": {},
   "outputs": [],
   "source": [
    "matcher = Matcher(nlp.vocab)\n",
    "\n",
    "lst_fresh = ['fresh']\n",
    "lst_grad = ['grad', 'graduate', 'graduates', 'student','students']\n",
    "\n",
    "# Welcome FG\n",
    "pattern_fg = [\n",
    "    {\"LEMMA\" : \"welcome\"},\n",
    "    {\"LOWER\" : \"to\", \"OP\" : \"?\"},\n",
    "    {\"LOWER\": {\"IN\": lst_fresh}},\n",
    "    {\"LOWER\": {\"IN\": lst_grad}},\n",
    "]\n",
    "\n",
    "matcher.add(\"ACCEPT_FG\", [pattern_fg])\n",
    "\n",
    "# Open to FG\n",
    "pattern_fg = [\n",
    "    {\"LEMMA\" : \"open\"},\n",
    "    { \"LEMMA\" : \"to\"},\n",
    "    {\"LOWER\": {\"IN\": lst_fresh}},\n",
    "    {\"LOWER\": {\"IN\": lst_grad}},\n",
    "]\n",
    "\n",
    "matcher.add(\"ACCEPT_FG\", [pattern_fg])\n",
    "\n",
    "# FG is welcome\n",
    "pattern_fg = [\n",
    "    {\"LOWER\" : {\"IN\" : lst_fresh} },\n",
    "    {\"LOWER\" :  {\"IN\" : lst_grad} },\n",
    "    {\"LOWER\" : \"is\"},\n",
    "    {\"LOWER\" : \"welcome\"}\n",
    "\n",
    "]\n",
    "\n",
    "matcher.add(\"ACCEPT_FG\", [pattern_fg])\n",
    "\n",
    "pattern_fg = [\n",
    "    {\"LOWER\" : \"fresh\" },\n",
    "    {\"IS_SPACE\" : True, \"OP\":\"*\"},\n",
    "    {\"LOWER\" :  {\"IN\" : lst_grad}}\n",
    "]\n",
    "\n",
    "matcher.add(\"ACCEPT_FG\", [pattern_fg], greedy=\"LONGEST\")\n",
    "\n",
    "# FG \n",
    "pattern_fg = [\n",
    "    {\"LOWER\" : \"fg\" }\n",
    "]\n",
    "\n",
    "matcher.add(\"ACCEPT_FG\", [pattern_fg], greedy=\"LONGEST\")"
   ]
  },
  {
   "cell_type": "code",
   "execution_count": 46,
   "metadata": {},
   "outputs": [],
   "source": [
    "text = lst_jobhighligh[4]\n",
    "doc = nlp(text)\n",
    "matches = matcher(doc)\n",
    "matches.sort(key = lambda x: x[1])\n",
    "\n",
    "for match in matches:\n",
    "    print (doc[match[1]:match[2]])\n",
    "    print (match)\n",
    "\n"
   ]
  },
  {
   "attachments": {},
   "cell_type": "markdown",
   "metadata": {},
   "source": [
    "## Capture the education requirement using Entity Ruler"
   ]
  },
  {
   "cell_type": "code",
   "execution_count": 53,
   "metadata": {},
   "outputs": [],
   "source": [
    "min_lst = [\"min\", \"min.\", \"minimium\"]  \n",
    "\n",
    "# \"Prefix\"\n",
    "#xx Science degree \n",
    "lst_pre = ['computer', 'data', 'management', 'information', 'quantitative']\n",
    "#Business\n",
    "lst_suf = ['technology', 'science', 'analysis', 'system', 'engineering', 'systems']\n",
    "\n",
    "lst_alone = ['finance', 'accounting', 'mis', 'engineering', 'telecom', 'logistics', 'marketing', 'economics']\n",
    "\n",
    "# This is for matching the exact term since without captalizing is confusing (Captalized is Major, Without is a skill)\n",
    "lst_exact = ['Business', 'Data', 'Supply']\n",
    "lst_analy = ['Analysis', 'Analytics', 'Chain', 'Management']\n",
    "\n",
    "# \"Suffix\"\n",
    "\n",
    "\n",
    "pattern_edulv = [\n",
    "    {\"label\" : \"EDU_LV\",\n",
    "     \"pattern\" : [ {\"LOWER\": \"bachelor\"},\n",
    "                  {\"LOWER\" : \"degree\"}]},\n",
    "\n",
    "    {\"label\" : \"EDU_LV\",\n",
    "     \"pattern\" : [ {\"LOWER\": \"master\"}]},\n",
    "\n",
    "     # Ph.D.\n",
    "    {\"label\" : \"EDU_LV\",\n",
    "     \"pattern\" : [ {\"LOWER\": \"ph\"},\n",
    "                  {\"IS_PUNCT\" : True},\n",
    "                  {\"LOWER\" : \"d\"},\n",
    "                  {\"IS_PUNCT\" : True}]},\n",
    "\n",
    "    # University degree holder\n",
    "    {\"label\" : \"EDU_LV\",\n",
    "     \"pattern\" : [ {\"LOWER\": \"university\", \"OP\" : \"?\"},\n",
    "                  {\"LOWER\" : \"degree\"},\n",
    "                  {\"LOWER\" : \"holder\", \"LEMMA\" : \"holder\", \"OP\" : \"?\"}]}\n",
    "]\n",
    "\n",
    "ruler.add_patterns(pattern_edulv)\n",
    "\n",
    "pattern_major = [\n",
    "    {\"label\" : \"MAJOR\",\n",
    "     \"pattern\" : [ {\"LOWER\": {\"IN\": lst_pre}},\n",
    "                   {\"LOWER\" : {\"IN\" : lst_suf}}]},\n",
    "    \n",
    "    {\"label\" : \"MAJOR\",\n",
    "     \"pattern\" : [ {\"LOWER\": \"statistics\"}]},\n",
    "\n",
    "    {\"label\" : \"MAJOR\",\n",
    "     \"pattern\" : [ {\"LOWER\": \"it\"}]},\n",
    "\n",
    "    # Business Analysis / Data Analytics must be \n",
    "    {\"label\" : \"MAJOR\",\n",
    "     \"pattern\" : [ {\"TEXT\" : {\"IN\": lst_exact}} , \n",
    "                  {\"TEXT\" : {\"IN\": lst_analy}} ]},\n",
    "\n",
    "    {\"label\" : \"MAJOR\",\n",
    "     \"pattern\" : [ {\"LOWER\" : {\"IN\" : lst_alone} } ]},\n",
    "\n",
    "\n",
    "    {\"label\" : \"MAJOR\",\n",
    "     \"pattern\" : [ {\"TEXT\" : \"Business\" } ]},\n",
    "\n",
    "    ]\n",
    "\n",
    "ruler.add_patterns(pattern_major)"
   ]
  },
  {
   "cell_type": "code",
   "execution_count": 52,
   "metadata": {},
   "outputs": [
    {
     "data": {
      "text/plain": [
       "\"['       Responsibilities       :       Responsible for regular and efficient tenant database maintenance, mapping and enhancement, and work closely with Business Operation teams for data cleansing and consolidationDrive enhancement of business data structure and data integration across different platforms with the use of technologyAutomate business and data process to decrease manual workflowAssist Team Manager to        oversee execution of data management and analytics by working closely with IT department and other data analytics teams in system enhancement projects        Assist in budgeting, forecasting, planning and analytics projects as assignedRequirement       s :              Degree in Information Systems, Business or related discipline       s At least 3-5 years of solid experience in real estate/       retail industryStrong business acumen and excellent communication skillsProficient in computer applications including Salesforce, Tableau, PowerBI, Oracle, and other Microsoft applications such as Excel, Word and PowerPointWell organized, attention to details, proactive and with an open-to-change        mindsetBe able to handle assigned tasks independently and under        minimal supervisionGood command of spoken and written English and Chinese (including Putonghua)Candidate with more experience will be considered for the role of Senior Business Analyst – Business SupportWe offer an attractive remuneration package and excellent prospects for career advancement to the right candidate. Please send detailed resume to Human Resources Department by clicking “Apply Now”        button. For more information about our Company, please visit our website:        http:       /       /       www.hanglung.com/       We are an equal opportunity employer and welcome applications from all qualified candidates. Personal data collected will be treated in strict confidence and be used solely for recruitment purposes within the Hang Lung Group of companies. Applicants who do not hear from us within 8 weeks from the date of application may consider their applications unsuccessful and their information will be destroyed within 12 months of receipt.', 'Responsibilities       :       ', 'Requirement       s :       ']       \""
      ]
     },
     "execution_count": 52,
     "metadata": {},
     "output_type": "execute_result"
    }
   ],
   "source": [
    "lst_jrjd[26]"
   ]
  },
  {
   "cell_type": "code",
   "execution_count": 54,
   "metadata": {},
   "outputs": [
    {
     "name": "stdout",
     "output_type": "stream",
     "text": [
      "'       Responsibilities       :       Responsible WORK_OF_ART\n",
      "Business MAJOR\n",
      "IT MAJOR\n",
      "Degree EDU_LV\n",
      "Information Systems MAJOR\n",
      "Business MAJOR\n",
      "least 3-5 years of EXPERIENCE\n",
      "Salesforce GPE\n",
      "Tableau GPE\n",
      "Oracle ORG\n",
      "Microsoft ORG\n",
      "Excel PRODUCT\n",
      "Word PERSON\n",
      "English LANGUAGE\n",
      "Chinese NORP\n",
      "Business MAJOR\n",
      "Business MAJOR\n",
      "Human Resources Department ORG\n",
      "Apply Now”        button. WORK_OF_ART\n",
      "the Hang Lung Group ORG\n",
      "8 weeks DATE\n",
      "12 months DATE\n",
      "'Responsibilities       :       ' WORK_OF_ART\n",
      "'Requirement       s :       ']        WORK_OF_ART\n"
     ]
    }
   ],
   "source": [
    "text = lst_jrjd[26]\n",
    "nlp(text)\n",
    "\n",
    "ent_text = nlp(text)\n",
    "\n",
    "for ent in ent_text.ents:\n",
    "    #if ent.label_ == \"EXPERIENCE\":\n",
    "    #    print(ent.text, ent.label_)\n",
    "    print(ent.text, ent.label_)"
   ]
  },
  {
   "cell_type": "code",
   "execution_count": 21,
   "metadata": {},
   "outputs": [
    {
     "name": "stdout",
     "output_type": "stream",
     "text": [
      "Supply Chain MAJOR\n",
      "Logistics MAJOR\n",
      "Statistics MAJOR\n"
     ]
    }
   ],
   "source": [
    "text = \"Supply Chain, Logistics,Statistics\"\n",
    "nlp(text)\n",
    "\n",
    "ent_text = nlp(text)\n",
    "for ent in ent_text.ents:\n",
    "    #if ent.label_ == \"EXPERIENCE\":\n",
    "    #    print(ent.text, ent.label_)\n",
    "    print(ent.text, ent.label_)"
   ]
  },
  {
   "cell_type": "code",
   "execution_count": null,
   "metadata": {},
   "outputs": [],
   "source": [
    "lst_jrjd[61:90]"
   ]
  },
  {
   "attachments": {},
   "cell_type": "markdown",
   "metadata": {},
   "source": [
    "## Capture required skill"
   ]
  },
  {
   "cell_type": "code",
   "execution_count": null,
   "metadata": {},
   "outputs": [],
   "source": [
    "# SAS, Oracle\n",
    "# SQL, MSSQL, MS SQL , PostgreSQL, MySQL\n",
    "# BI tools / Power BI / Tableau\n",
    "# Microsoft Azure Cloud, Azure, AWS, Microsoft Azure Data, Excel \n",
    "# Python, R, Snowflake \n",
    "# Mongo DB "
   ]
  },
  {
   "cell_type": "code",
   "execution_count": null,
   "metadata": {},
   "outputs": [],
   "source": [
    "str = \"Data Mining\\xa0\\xa0\\xa0\\xa0\\xa0\\xa0\\xa0\\xa0\\xa0\\xa0\"\n",
    "\n",
    "test = str.replace(\"\\xa0\", '')\n",
    "\n",
    "print(test)"
   ]
  }
 ],
 "metadata": {
  "kernelspec": {
   "display_name": "Python 3",
   "language": "python",
   "name": "python3"
  },
  "language_info": {
   "codemirror_mode": {
    "name": "ipython",
    "version": 3
   },
   "file_extension": ".py",
   "mimetype": "text/x-python",
   "name": "python",
   "nbconvert_exporter": "python",
   "pygments_lexer": "ipython3",
   "version": "3.10.2"
  },
  "orig_nbformat": 4
 },
 "nbformat": 4,
 "nbformat_minor": 2
}
