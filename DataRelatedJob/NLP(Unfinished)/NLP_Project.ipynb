{
 "cells": [
  {
   "attachments": {},
   "cell_type": "markdown",
   "metadata": {},
   "source": [
    "# Import packages "
   ]
  },
  {
   "cell_type": "code",
   "execution_count": 1,
   "metadata": {},
   "outputs": [],
   "source": [
    "import pandas as pd\n",
    "import numpy as np"
   ]
  },
  {
   "attachments": {},
   "cell_type": "markdown",
   "metadata": {},
   "source": [
    "# Read the .csv"
   ]
  },
  {
   "cell_type": "code",
   "execution_count": 180,
   "metadata": {},
   "outputs": [
    {
     "data": {
      "text/html": [
       "<div>\n",
       "<style scoped>\n",
       "    .dataframe tbody tr th:only-of-type {\n",
       "        vertical-align: middle;\n",
       "    }\n",
       "\n",
       "    .dataframe tbody tr th {\n",
       "        vertical-align: top;\n",
       "    }\n",
       "\n",
       "    .dataframe thead th {\n",
       "        text-align: right;\n",
       "    }\n",
       "</style>\n",
       "<table border=\"1\" class=\"dataframe\">\n",
       "  <thead>\n",
       "    <tr style=\"text-align: right;\">\n",
       "      <th></th>\n",
       "      <th>Job_Title</th>\n",
       "      <th>Location</th>\n",
       "      <th>Job_Highlight</th>\n",
       "      <th>JRJD</th>\n",
       "      <th>Company_Name</th>\n",
       "    </tr>\n",
       "  </thead>\n",
       "  <tbody>\n",
       "    <tr>\n",
       "      <th>0</th>\n",
       "      <td>ASSISTANT MANAGER - DATA ANALYTICS</td>\n",
       "      <td>Wan Chai</td>\n",
       "      <td>Bachelor degree in Computer Science, Informati...</td>\n",
       "      <td>Bachelor degree in Computer Science, Informati...</td>\n",
       "      <td>Sun Hung Kai Properties</td>\n",
       "    </tr>\n",
       "    <tr>\n",
       "      <th>1</th>\n",
       "      <td>IT Assistant (Data Management)</td>\n",
       "      <td>Mong Kok</td>\n",
       "      <td>Job To perform regular updating of the data an...</td>\n",
       "      <td>Job To perform regular updating of the data an...</td>\n",
       "      <td>EIDEALINK LIMITED</td>\n",
       "    </tr>\n",
       "    <tr>\n",
       "      <th>2</th>\n",
       "      <td>Associate Vice President, Dashboard Reporting ...</td>\n",
       "      <td>Wan Chai</td>\n",
       "      <td>Direct report to Chief Analytics OfficerLead a...</td>\n",
       "      <td>Direct report to Chief Analytics OfficerLead a...</td>\n",
       "      <td>United Asia Finance Limited</td>\n",
       "    </tr>\n",
       "    <tr>\n",
       "      <th>3</th>\n",
       "      <td>Data Center Customer Operations Engineer / Fie...</td>\n",
       "      <td>Tsuen Wan Area</td>\n",
       "      <td>Who are we Equinix is one of the fastest growi...</td>\n",
       "      <td>Who are we Equinix is one of the fastest growi...</td>\n",
       "      <td>Equinix Hong Kong Ltd</td>\n",
       "    </tr>\n",
       "    <tr>\n",
       "      <th>4</th>\n",
       "      <td>IT Data Centre Operator</td>\n",
       "      <td>Tsuen Wan Area</td>\n",
       "      <td>What you’ll be doing Perform activities for mo...</td>\n",
       "      <td>What you’ll be doing Perform activities for mo...</td>\n",
       "      <td>OCBC Wing Hang Bank Limited</td>\n",
       "    </tr>\n",
       "  </tbody>\n",
       "</table>\n",
       "</div>"
      ],
      "text/plain": [
       "                                           Job_Title        Location  \\\n",
       "0                 ASSISTANT MANAGER - DATA ANALYTICS        Wan Chai   \n",
       "1                     IT Assistant (Data Management)        Mong Kok   \n",
       "2  Associate Vice President, Dashboard Reporting ...        Wan Chai   \n",
       "3  Data Center Customer Operations Engineer / Fie...  Tsuen Wan Area   \n",
       "4                            IT Data Centre Operator  Tsuen Wan Area   \n",
       "\n",
       "                                       Job_Highlight  \\\n",
       "0  Bachelor degree in Computer Science, Informati...   \n",
       "1  Job To perform regular updating of the data an...   \n",
       "2  Direct report to Chief Analytics OfficerLead a...   \n",
       "3  Who are we Equinix is one of the fastest growi...   \n",
       "4  What you’ll be doing Perform activities for mo...   \n",
       "\n",
       "                                                JRJD  \\\n",
       "0  Bachelor degree in Computer Science, Informati...   \n",
       "1  Job To perform regular updating of the data an...   \n",
       "2  Direct report to Chief Analytics OfficerLead a...   \n",
       "3  Who are we Equinix is one of the fastest growi...   \n",
       "4  What you’ll be doing Perform activities for mo...   \n",
       "\n",
       "                  Company_Name  \n",
       "0      Sun Hung Kai Properties  \n",
       "1            EIDEALINK LIMITED  \n",
       "2  United Asia Finance Limited  \n",
       "3        Equinix Hong Kong Ltd  \n",
       "4  OCBC Wing Hang Bank Limited  "
      ]
     },
     "execution_count": 180,
     "metadata": {},
     "output_type": "execute_result"
    }
   ],
   "source": [
    "df_job = pd.read_csv('cleaned_datajob.csv', encoding='utf-8-sig')\n",
    "df_job.head()"
   ]
  },
  {
   "cell_type": "code",
   "execution_count": 181,
   "metadata": {},
   "outputs": [],
   "source": [
    "lst_jrjd = df_job.JRJD.tolist()\n",
    "lst_jobhighligh = df_job.Job_Highlight.tolist()"
   ]
  },
  {
   "attachments": {},
   "cell_type": "markdown",
   "metadata": {},
   "source": [
    "# NLP Process for job highlight"
   ]
  },
  {
   "cell_type": "code",
   "execution_count": 7,
   "metadata": {},
   "outputs": [],
   "source": [
    "import spacy\n",
    "import re"
   ]
  },
  {
   "attachments": {},
   "cell_type": "markdown",
   "metadata": {},
   "source": [
    "## Entity Ruler For Extracting Experience information "
   ]
  },
  {
   "cell_type": "code",
   "execution_count": 41,
   "metadata": {},
   "outputs": [],
   "source": [
    "config = {\n",
    "   \"overwrite_ents\": True,\n",
    "   \"validate\" : True\n",
    "}\n",
    "\n",
    "nlp = spacy.load(\"en_core_web_sm\")\n",
    "#ruler = nlp.add_pipe('entity_ruler', before=\"ner\", config=config)\n",
    "ruler = nlp.add_pipe('entity_ruler', after=\"ner\", config=config)\n",
    "#ruler = nlp.add_pipe('entity_ruler', config=config)\n",
    "\n",
    "# Min 5-7 year\n",
    "# 1-2 years working experience\n",
    "# 10+ years\n",
    "\n",
    "min_lst = [\"min\", \"min.\", \"minimium\"]\n",
    "\n",
    "\n",
    "\n",
    "pattern_exp = [\n",
    "    {\"label\" : \"EXPERIENCE\",\n",
    "     \"pattern\" : [ {\"LOWER\": {\"IN\": min_lst}},\n",
    "                   {\"IS_DIGIT\" : True},\n",
    "                   {\"IS_PUNCT\" : True, \"OP\" : \"?\"},\n",
    "                   {\"IS_DIGIT\" : True, \"OP\" : \"?\"},\n",
    "                   {\"LEMMA\" : \"year\", \"LOWER\" : \"years\",\"OP\" : \"+\"}]},\n",
    "\n",
    "    {\"label\" : \"EXPERIENCE\",\n",
    "     \"pattern\" : [ {\"IS_ALPHA\" : True, \"OP\" : \"?\"},\n",
    "                   {\"IS_DIGIT\" : True}, \n",
    "                   {\"IS_PUNCT\" : True, \"OP\" : \"?\"},\n",
    "                   {\"IS_DIGIT\" : True, \"OP\" : \"?\"},\n",
    "                   {\"IS_SPACE\" : True, \"OP\" : \"?\"},\n",
    "                   {\"IS_SPACE\" : True, \"OP\" : \"?\"},\n",
    "                   {\"LEMMA\" : \"year\", \"LOWER\" : \"years\",\"OP\" : \"+\"},\n",
    "                   {\"LEMMA\" : \"of\", \"LOWER\" : \"of\",\"OP\" : \"?\"},\n",
    "                   {\"LEMMA\" : \"work\", \"LOWER\" : \"work\",\"OP\" : \"?\"},\n",
    "                   {\"LEMMA\" : \"experience\", \"LOWER\" : \"experience\",\"OP\" : \"?\"}]},\n",
    "\n",
    "    {\"label\" : \"EXPERIENCE\",\n",
    "     \"pattern\" : [ {\"IS_DIGIT\" : True},\n",
    "                   {\"TEXT\" : \"+\", \"OP\" : \"?\"},\n",
    "                   {\"IS_SPACE\" : True, \"OP\" : \"?\"},\n",
    "                   {\"IS_SPACE\" : True, \"OP\" : \"?\"},\n",
    "                   {\"LEMMA\" : \"year\", \"LOWER\" : \"years\",\"OP\" : \"+\"},\n",
    "                   {\"LEMMA\" : \"work\", \"LOWER\" : \"work\",\"OP\" : \"?\"},\n",
    "                   {\"LEMMA\" : \"experience\", \"LOWER\" : \"experience\",\"OP\" : \"?\"}]},\n",
    "                \n",
    "    {\"label\" : \"EXPERIENCE\",\n",
    "     \"pattern\" : [ {\"LOWER\" : \"at\", \"OP\" : \"?\"},\n",
    "                   {\"LOWER\" : \"least\", \"OP\" : \"+\"},\n",
    "                   {\"IS_DIGIT\" : True},\n",
    "                   {\"LEMMA\" : \"year\", \"LOWER\" : \"years\",\"OP\" : \"+\"},\n",
    "                   {\"LEMMA\" : \"work\", \"LOWER\" : \"work\",\"OP\" : \"?\"},\n",
    "                   {\"LEMMA\" : \"experience\", \"LOWER\" : \"experience\",\"OP\" : \"?\"}]}\n",
    "\n",
    "\n",
    "    ]\n",
    "\n",
    "ruler.add_patterns(pattern_exp)"
   ]
  },
  {
   "cell_type": "code",
   "execution_count": 182,
   "metadata": {},
   "outputs": [
    {
     "name": "stdout",
     "output_type": "stream",
     "text": [
      "Analyse FAC\n",
      "Provide NORP\n",
      "Data ORG\n",
      "ETL ORG\n",
      "Perform Data Analytic ORG\n",
      "Data Visualization ORG\n",
      "Data Modelling ORG\n",
      "Dashboard BuildingJob PERSON\n",
      "Bachelor ORG\n",
      "Data Science ORG\n",
      "Preferably 2 years of EXPERIENCE\n",
      "Data Analysis ORG\n",
      "Business Intelligence ORG\n",
      "SQL / Python ORG\n",
      "English LANGUAGE\n",
      "Chinese NORP\n",
      "theGroup Director ofHuman Resources & Administration ORG\n",
      "Kerry Logistics PERSON\n",
      "2614 DATE\n",
      "the Kerry Group ORG\n"
     ]
    }
   ],
   "source": [
    "text = lst_jrjd[58]\n",
    "nlp(text)\n",
    "\n",
    "ent_text = nlp(text)\n",
    "\n",
    "for ent in ent_text.ents:\n",
    "    #if ent.label_ == \"EXPERIENCE\":\n",
    "    #    print(ent.text, ent.label_)\n",
    "    print(ent.text, ent.label_)"
   ]
  },
  {
   "attachments": {},
   "cell_type": "markdown",
   "metadata": {},
   "source": [
    "## Matcher For if the position is open to FG"
   ]
  },
  {
   "cell_type": "code",
   "execution_count": 10,
   "metadata": {},
   "outputs": [],
   "source": [
    "from spacy.matcher import Matcher"
   ]
  },
  {
   "cell_type": "code",
   "execution_count": 18,
   "metadata": {},
   "outputs": [],
   "source": [
    "matcher = Matcher(nlp.vocab)\n",
    "\n",
    "lst_fresh = ['fresh', 'fg', 'undergraduate']\n",
    "lst_grad = ['grad', 'graduate', 'graduates', 'student','students']\n",
    "\n",
    "# Welcome FG\n",
    "pattern_fg = [\n",
    "    {\"LEMMA\" : \"welcome\"},\n",
    "    {\"LOWER\" : \"to\", \"OP\" : \"?\"},\n",
    "    {\"LOWER\": {\"IN\": lst_fresh}},\n",
    "    {\"LOWER\": {\"IN\": lst_grad}},\n",
    "]\n",
    "\n",
    "matcher.add(\"ACCEPT_FG\", [pattern_fg])\n",
    "\n",
    "# Open to FG\n",
    "pattern_fg = [\n",
    "    {\"LEMMA\" : \"open\"},\n",
    "    { \"LEMMA\" : \"to\"},\n",
    "    {\"LOWER\": {\"IN\": lst_fresh}},\n",
    "    {\"LOWER\": {\"IN\": lst_grad}},\n",
    "]\n",
    "\n",
    "matcher.add(\"ACCEPT_FG\", [pattern_fg])\n",
    "\n",
    "# FG is welcome\n",
    "pattern_fg = [\n",
    "    {\"LOWER\" : {\"IN\" : lst_fresh} },\n",
    "    {\"LOWER\" :  {\"IN\" : lst_grad} },\n",
    "    {\"LOWER\" : \"is\"},\n",
    "    {\"LOWER\" : \"welcome\"}\n",
    "\n",
    "]\n",
    "\n",
    "matcher.add(\"ACCEPT_FG\", [pattern_fg])\n",
    "\n",
    "# FG \n",
    "pattern_fg = [\n",
    "    {\"LOWER\" : {\"IN\" : lst_fresh} },\n",
    "    {\"LOWER\" :  {\"IN\" : lst_grad} }\n",
    "]\n",
    "\n",
    "matcher.add(\"ACCEPT_FG\", [pattern_fg], greedy=\"LONGEST\")"
   ]
  },
  {
   "cell_type": "code",
   "execution_count": 25,
   "metadata": {},
   "outputs": [
    {
     "name": "stdout",
     "output_type": "stream",
     "text": [
      "Welcome to Undergraduate students\n",
      "(6273632314162797395, 5, 9)\n"
     ]
    }
   ],
   "source": [
    "text = lst_jobhighligh[39]\n",
    "doc = nlp(text)\n",
    "matches = matcher(doc)\n",
    "matches.sort(key = lambda x: x[1])\n",
    "\n",
    "for match in matches:\n",
    "    print (doc[match[1]:match[2]])\n",
    "    print (match)\n",
    "\n"
   ]
  },
  {
   "attachments": {},
   "cell_type": "markdown",
   "metadata": {},
   "source": [
    "## Capture the education requirement"
   ]
  },
  {
   "cell_type": "code",
   "execution_count": 203,
   "metadata": {},
   "outputs": [],
   "source": [
    "lst_related = [\"related\", \"relevant\", \"equivalent\", \"stream\"]\n",
    "lst_role = [\"graduate\", \"student\"]\n",
    "\n",
    "# degree in xx\n",
    "# bachelor degree in xxx, xxxx, xxxx\n",
    "# bachelor degree in xxx, xxxx, xxxx or related\n",
    "# degree holder in xxx, or related disciplines\n",
    "#Bachelor Degree in IT or related discipline5\n",
    "pattern_edu =[\n",
    "    {\"LOWER\" : \"bachelor\", \"OP\" : \"?\"},\n",
    "    {\"LOWER\" : \"degree\"},\n",
    "    {\"LOWER\" : \"in\"},\n",
    "    {\"IS_ALPHA\" : True, \"OP\" : \"+\"},\n",
    "    {\"LOWER\" : {\"IN\" : lst_related}}\n",
    "]\n",
    "\n",
    "matcher.add(\"EDU\", [pattern_edu], greedy=\"LONGEST\")\n",
    "\n",
    "\n",
    "\n",
    "# bachelor’s degree in any discipline\n",
    "pattern_edu =[\n",
    "    {\"LOWER\" : \"bachelor\", \"OP\" : \"?\"},\n",
    "    {\"LOWER\" : \"degree\"},\n",
    "    {\"LOWER\" : \"in\"},\n",
    "    {\"LOWER\" : \"any\"},\n",
    "    {\"LEMMA\" : \"discipline\"}\n",
    "]\n",
    "\n",
    "matcher.add(\"EDU\", [pattern_edu], greedy=\"LONGEST\")\n",
    "\n",
    "\n",
    "\n",
    "# Bachelor or Master Degree in xxx or equivalent\n",
    "pattern_edu =[\n",
    "    {\"LOWER\" : \"bachelor\"},\n",
    "    {\"LOWER\" : \"or\", \"OP\" : \"?\"},\n",
    "    {\"LOWER\" : \"master\"},\n",
    "    {\"LEMMA\" : \"degree\", \"OP\" :  \"?\"},\n",
    "    {\"LOWER\" : \"in\", \"OP\" :  \"?\"},\n",
    "    {\"IS_ALPHA\" : True, \"OP\" : \"+\"},\n",
    "    {\"LOWER\" : {\"IN\" : lst_related}}\n",
    "]\n",
    "\n",
    "matcher.add(\"EDU\", [pattern_edu], greedy=\"LONGEST\")\n",
    "\n",
    "\n",
    "\n",
    "# University graduate in xxx or in relevant\n",
    "pattern_edu =[\n",
    "    {\"LEMMA\" : \"university\"},\n",
    "    {\"LEMMA\" : {\"IN\" : lst_role}},\n",
    "    {\"IS_ALPHA\" : True, \"OP\" : \"+\"},\n",
    "    {\"IS_PUNCT\" : True, \"OP\" : \"*\"},\n",
    "    {\"IS_ALPHA\" : True, \"OP\" : \"*\"},\n",
    "    {\"IS_PUNCT\" : True, \"OP\" : \"*\"},\n",
    "    {\"IS_ALPHA\" : True, \"OP\" : \"*\"},\n",
    "    {\"IS_PUNCT\" : True, \"OP\" : \"*\"},\n",
    "    {\"IS_ALPHA\" : True, \"OP\" : \"*\"},\n",
    "    {\"IS_PUNCT\" : True, \"OP\" : \"*\"},\n",
    "    {\"IS_ALPHA\" : True, \"OP\" : \"*\"},\n",
    "    {\"IS_PUNCT\" : True, \"OP\" : \"*\"},\n",
    "    {\"IS_ALPHA\" : True, \"OP\" : \"*\"},\n",
    "    {\"IS_PUNCT\" : True, \"OP\" : \"*\"},\n",
    "    {\"IS_ALPHA\" : True, \"OP\" : \"*\"},\n",
    "    {\"IS_PUNCT\" : True, \"OP\" : \"*\"},\n",
    "    {\"IS_ALPHA\" : True, \"OP\" : \"*\"},\n",
    "    {\"IS_PUNCT\" : True, \"OP\" : \"*\"},\n",
    "    {\"IS_ALPHA\" : True, \"OP\" : \"*\"},\n",
    "    {\"LOWER\" : {\"IN\" : lst_related}}\n",
    "]\n",
    "\n",
    "matcher.add(\"EDU\", [pattern_edu], greedy=\"LONGEST\")\n",
    "\n",
    "\n",
    "\n",
    "# year + graduate in xxxx \n",
    "pattern_edu =[\n",
    "    {\"IS_DIGIT\" : True, \"OP\" : \"?\"},\n",
    "    {\"LEMMA\" : {\"IN\" : lst_role}},\n",
    "    {\"IS_ALPHA\" : True, \"OP\" : \"+\"},\n",
    "    {\"IS_PUNCT\" : True, \"OP\" : \"*\"},\n",
    "    {\"IS_ALPHA\" : True, \"OP\" : \"*\"},\n",
    "    {\"IS_PUNCT\" : True, \"OP\" : \"*\"},\n",
    "    {\"IS_ALPHA\" : True, \"OP\" : \"*\"},\n",
    "    {\"IS_PUNCT\" : True, \"OP\" : \"*\"},\n",
    "    {\"IS_ALPHA\" : True, \"OP\" : \"*\"},\n",
    "    {\"IS_PUNCT\" : True, \"OP\" : \"*\"},\n",
    "    {\"IS_ALPHA\" : True, \"OP\" : \"*\"},\n",
    "    {\"LOWER\" : {\"IN\" : lst_related}}\n",
    "]\n",
    "\n",
    "matcher.add(\"EDU\", [pattern_edu], greedy=\"LONGEST\")\n",
    "\n",
    "\n",
    "# related: related, relevant, equivalent"
   ]
  },
  {
   "cell_type": "code",
   "execution_count": 195,
   "metadata": {},
   "outputs": [
    {
     "data": {
      "text/plain": [
       "\"Our global clients, inclusive community, flexible and caring culture provide you with opportunities from day one, set you up for long-term success with flexibility, resources and connections. It’s how we help you create a career that you will love and embrace. At your selected service line, you will learn and adapt to the firm’s approach, practices and methodologies in performing selected procedures and documentation under close supervision of seniors. You will become a member of the engagement team and work alongside partners and senior executives to support the respective assignments of various nature and clients including MNCs, private and listed corporations.2023 graduates in Accounting / MIS / Finance / Business stream with a passion to learn and excelInternship or part-time expereince a definite advantageA positive team player with excellent analytical and inter-personal skillsDemonstrated project management skillset including project planning and time managementCan communicate effectively in written and spoken English, Chinese and PutonghuaAble to work efficiently and effectively in a complex team environmentWe are a Caring Employer who offers attractive remuneration packages including medical insurance, a 5-day working week, birthday leave, study and examination leave, qualifying pay, etc. Interested applicants please submit your applicationby clicking “APPLY NOW” or by post to The Human Resources Department, Grant Thornton Hong Kong Limited, 11th Floor, Lee Garden Two, 28 Yun Ping Road, Causeway Bay, Hong Kong.www.grantthornton.cnNoteYour personal data will be destroyed within three months after completion of the recruitment process.', 'Our global clients, inclusive community, flexible and caring culture provide you with opportunities from day one, set you up for long-term success with flexibility, resources and connections. It’s how we help you create a career that you will love and embrace. At your selected service line, you will learn and adapt to the firm’s approach, practices and methodologies in performing selected procedures and documentation under close supervision of seniors. You will become a member of the engagement team and work alongside partners and senior executives to support the respective assignments of various nature and clients including MNCs, private and listed corporations.', ''\""
      ]
     },
     "execution_count": 195,
     "metadata": {},
     "output_type": "execute_result"
    }
   ],
   "source": [
    "lst_jrjd[42]"
   ]
  },
  {
   "cell_type": "code",
   "execution_count": 198,
   "metadata": {},
   "outputs": [
    {
     "name": "stdout",
     "output_type": "stream",
     "text": [
      "graduates in Accounting / MIS / Finance / Business stream with a passion to learn and excelInternship or part-time expereince a definite advantageA positive team player with excellent analytical and inter-personal skillsDemonstrated project management skillset including project planning and time managementCan communicate effectively in written and spoken English, Chinese and PutonghuaAble to work efficiently and effectively in a complex team environmentWe are a Caring Employer who offers attractive remuneration packages including medical insurance, a\n",
      "(1612162546529609966, 115, 195)\n"
     ]
    }
   ],
   "source": [
    "text = lst_jrjd[42]\n",
    "doc = nlp(text)\n",
    "matches = matcher(doc)\n",
    "matches.sort(key = lambda x: x[1])\n",
    "\n",
    "for match in matches:\n",
    "    print (doc[match[1]:match[2]])\n",
    "    print (match)\n",
    "\n"
   ]
  },
  {
   "cell_type": "code",
   "execution_count": 204,
   "metadata": {},
   "outputs": [
    {
     "name": "stdout",
     "output_type": "stream",
     "text": [
      "graduates in Accounting / MIS / Finance / Business stream with a passion to learn and excelInternship\n",
      "(1612162546529609966, 0, 17)\n"
     ]
    }
   ],
   "source": [
    "text = \"graduates in Accounting / MIS / Finance / Business stream with a passion to learn and excelInternship\"\n",
    "doc = nlp(text)\n",
    "matches = matcher(doc)\n",
    "matches.sort(key = lambda x: x[1])\n",
    "\n",
    "for match in matches:\n",
    "    print (doc[match[1]:match[2]])\n",
    "    print (match)"
   ]
  },
  {
   "cell_type": "code",
   "execution_count": 58,
   "metadata": {},
   "outputs": [
    {
     "data": {
      "text/plain": [
       "['Our client is one of the largest property developers with heavy involvement in investment, leasing and development. They are currently seeking a high calibre data engineer to join their data tech team to cover multiple sophisticated projects related to smart hotel and smart building.  Support overall data platform architect, optimize data sets, data pipelinesBuild required infrastructure for optimal ETL from multiple data sourcesSupport data transformation, data structures, and metadataBuild analytic tools to fully utilize data pipeline and provide meaningful metrics for operation efficiencyLiaise with system and development teams to implement production environment  University Degree in Data Science, Computer Science, Information Technology, Statistics or relevantProgramming Languages  Scala (Must) and Python (Plus)3-5 years related experience on software development on enterprise grade productExperience on Data Modelling, Handling, and Data APISoftware development experience with SQL/non-SQLHands on Data Analytics experience, Machine Learning experience in a plusFluency in Cantonese, Mandarin and English is required for this positionClick \"Apply Now\" to apply for this position or call Alfred To at +852 3180 4977 for a confidential discussion. All information collected will be kept in strict confidence and will be used for recruitment purpose only. ,  Click \"Apply Now\" to apply for this position or call Alfred To at +852 3180 4977 for a confidential discussion. All information collected will be kept in strict confidence and will be used for recruitment purpose only. ,  Click \"Apply Now\" to apply for this position or call Alfred',\n",
       " 'Our client is looking for candidate who has experience in data analysis and testing. You will be working in the IT team and act an important character to ensure the business can provide the best services to the public.Responsible for data analysisWorking closely with technical team and business usersCommunicate closely with the IT team and stakeholders for changing requestUnderstand the business goals and objectivesRequirement Minimum with 1 year working experience in data analyst / QA testingFamiliar with automation tools (Web/App)Require SQL and PythonKnowledge in data will be a plusHong Kong ResidentImmediately available is preferredFluent in Chinese and English',\n",
       " 'WHO ARE WE?At the Hong Kong Tourism Board, we take great pride in helping people across the world fall in love with our home. There are many challenges, but we continue in earnest to revitalize and reshape the Hong Kong tourism brand and build sustainable growth for our city’s economy. To achieve our ambition, we are inviting passionate talents with a global mindset to join us at this incredible juncture, and work with a dynamic and fun team.HOW YOU WILL CONTRIBUTE AND LEARN?Manage ETL processes from extraction, transformation and analysis for data across the HKTB.Write and maintain data pipelines, reporting scripts and queries.Perform database management including data validation and data cleansing to ensure data integrity.Develop dashboards, visualisations and regular reports to facilitate efficient data analysis and provide actionable insights to the Management and business teams.Gather user requirements, and collaborate with other IT teams and vendors to execute data management strategy and build data warehousing.Provide support on BI and reporting activities as assigned.WHO ARE WE LOOKING FOR?Degree holder preferably in Computer Science, Information Technology, Statistics or related discipline.Hands-on experience in database management, ETL programming, and/or data analytics.Experience in ETL tool (e.g. Alteryx) and BI tools (e.g. Tableau, QlikSense and PowerBI).Proficiency in MS Office and programming language such as Python.Desire to learn and understand new technologies.Strong analytical skills, detailed minded and able to work independently as well as in a team.Good command of English and Chinese.If you are passionate about our mission and believe you are the one we are looking for, please send us your resume with present and expected salary by clicking \"Apply Now\". We are looking forward to hearing from you.Only shortlisted applicants will be contacted. \\\\xa0Personal data provided by job applicants will be kept in strict confidence and\\\\xa0used\\\\xa0only for recruitment and employment-related purpose in accordance with our personal data policies. By submitting your job application, you acknowledge that you have read, understood and accepted the HKTB’s Personal Information Collection Statement Pertaining to Job Application at\\\\xa0here.We are an equal opportunities employer.\\\\xa0\\\\xa0',\n",
       " 'The Job Understand the business issues and data challenges for the department and industryHandle both strategic and tactical projects that encompass requirements elicitation, system / screen design, user / functional requirements documentation & post production defect trackingReview and edit requirements, specifications, business processes and recommendations related to proposed solutionsManage time & set priorities / deadlines appropriately & perform management escalationsDrive and challenge business units on their assumptions of how they will successfully execute their plansPlays a key role in User Acceptance Testing efforts  provides acceptance criteria, use cases, and assists with business expectations & questions\\\\xa0The Person Proficient in VBA and Marco2+ years prior business analyst experienceExperience in project management and gathering explicit business requirements\\\\xa0Collaborate with developers and subject matter experts to establish the technical vision and analyze tradeoffs between usability and performance needs.Ability to facilitate with multiple teams and their agendas to come to a joint acceptance of desired project directionStrong analytical and product management skills requiredExcellent spoken and written communication skillshave hands on experience on simple VBA project',\n",
       " 'Extend and monitor existing data pipeline workflow written in Apache AirflowManage analytics database clusterDevelop Automation tools for Network OperationsCreate data visualization for Network/ Customer Performance Monitoring System Degree\\\\xa0or above in Information System, Computer Science, Electronic Engineering or related disciplinesProficient in Python and SQLKnowledge on below is preferrable Data Visualization Tools (Tableau, Metabase)Databases (Clickhouse, PostgreSQL, MySQL)Orchestration Tools (Docker, NGINX)Experience of Big Data Technologies (Hadoop, Spark, Airflow)Self-motivated, fast learning and good problem-solving skillFresh graduate are welcomeInterested parties please apply with full resume stating present and expected salary by clicking \"Apply Now\" or visiting our Website \\\\xa0www.smartone.com/tc/about_us/careers/SmarTone is an equal-opportunity employer. All data supplied will be kept in strict confidence and will be used for employment related purpose. We may transfer such data to any agent, contractor or third party who provides services to us with respect to matters relating to your application. Only short-listed candidates will be contacted.You are welcome to visit our website  \\\\xa0www.smartone.com\\\\xa0\\\\xa0 ,    ,  Extend and monitor existing data pipeline workflow written in Apache Airflow',\n",
       " '\"Our client is an international e-commerce solutions company with a global presence. They are currently serving 300+ sales and retail companies to provide logistical services for their e-commerce business. To help optimise growth opportunities, they are currently looking for a Data Analyst with 2+ years of experience to provide data analysis and data management support. Technical skills required are VBA and SQL.Client DetailsOur client is an international e-commerce solutions company with a global presence. They are currently serving 300+ sales and retail companies to provide logistical services for their e-commerce business. To help optimise growth opportunities, they are currently looking for a Data Analyst with 1+ years of experience to provide data analysis and data management support. Technical skills required are VBA and SQL, knowledge of Power BI, Tableau, Python and/or MS Access would be an advantage.Excellent communication skills in English is required; Cantonese would be advantageous.DescriptionPerform data analysis to identify business opportunities and provide customer insightsBuild data analytics modelsSupport any in-house data management (ETL) and data analytics needsPrepare reports and KPIs to identify business improvement areasData visualisation with Power BIAutomation of routine reportsAny ad-hoc duties or projects as requiredProfile1+ years of experience in data analytics, preferably in sales dataDegree in Statistics, Computer Science, Information Technology, Business Administration or any relevant degreeCandidates with relevant internship experience will be consideredExcellent proficiency in VBA, SQL and Power BI/TableauMust be a team player with good analytical skillsExcellent communication skills in English is a must, Cantonese would be a definite advantageJob OfferMNC and international working environmentCareer growth opportunityOffice near MTRTo apply online please click the  Apply  button below. For a confidential discussion about this role please contact Jacqueline Lung on +852 3602 2471\"',\n",
       " 'HighlightWant to join as part of exciting team that leverage the enterprise level Big Data systems in fast growing leading companyLook for a proactive talent who could have forward thinking, adaptable, and out-of-the-box thinking for different new projectsAs part of the Big Data team in designing and deploying solutions to different data savvy business units by leveraging off big data and giving a competitive advantage to SF to drive strategic business growth. Work closely with different departments including Sale/ Marketing/ Operation/ HR/ Finance/ Customer Service / etc to make a difference by a data-driven modelBe part of the Big Data development team to design and develop solutions leveraging big data analysis technology (e.g. Python, R, SQL).Analyze users ‘ need and turn data into insights, prediction, actionable itemsRecommend and build data solutions as required per business units’ requirementManage the project schedule from the high level system design and analysis, system implementation / enhancement, UAT to system deploymentPrepare and maintain function specification and training documentation 2-4 years working experience in Data Science related disciplineExtensive experience working with SQL, and R/Python, with cloud platform experience.Solid experience in Data Modelling, Mining, Natural language Processing, Artificial Intelligence, Machine learning and Deep Learning.Have desire to make a different to have positive impact to different business unitsBachelor degree or above in Computer Science, Data Science, Mathematics, Statistics, Physics or related discipline or other related disciplineGood command of written and spoken English and Chinese (including Putonghua)We offer attractive remuneration package\\\\xa0(including 2 months or above performance bonus)\\\\xa0and fringe benefits to the right candidates. Interested parties please submit your application to us by clicking the Apply Now\\\\xa0button and send your full resume with your availability, current and expected salaries.\\\\u200bYou are welcome to visit our website at\\\\xa0http //www.sf-express.com/hk/tc/ for more information about us.Candidates who are not invited for interview within 2-month may consider their applications unsuccessful.\\\\xa0All personal data provided by job applicants will be used only for recruitment purpose and will be treated strictly confidential. Unsuccessful applications will be retained for a maximum period of 24-month. ,  Highlight ,  Want to join as part of exciting team that leverage the enterprise level Big Data systems in fast growing leading company',\n",
       " '\"You will participate in the development project of data visualisation for Network/ Customer Performance Monitoring SystemClient DetailsWe provide business and residential customers with security monitoring and alarm systems, information‐networking technologies, integrated home automation services, and home electronics products. We offer a range of smart home and business solutions, including indoor and outdoor security sensors, smoke and water detectors, emergency alarms, surveillance cameras, locks, thermostats, and a mobile application for monitoring.DescriptionExtend and monitor existing data pipeline workflow written in Apache AirflowManage analytics database clusterDevelop Automation tools for Network OperationsCreate data visualization for Network/ Customer Performance Monitoring SystemProfileDegree or above in Information System, Computer Science, Electronic Engineering or related disciplinesProficient in Python and SQLKnowledge on below ispreferrable Data Visualization Tools (Tableau, Metabase)Databases (Clickhouse, PostgreSQL, MySQL)Orchestration Tools (Docker, NGINX)Experience of Big Data Technologies (Hadoop, Spark, Airflow)Self-motivated, fast learning and good problem-solving skillFresh graduate are welcomeJob OfferWe offer competitive remuneration package and comprehensive fringe benefits including medical and life insurance, and different types of allowances to the right candidate.To apply online please click the  Apply  button below. For a confidential discussion about this role please contact Royce Chan on +852 3602 2491.\"',\n",
       " 'Overview As a Tech & Innovation Lead of\\\\xa0HKT InnoLab,\\\\xa0you will develop opportunities in line with the business strategy, taking them through proof of concept/MVP, recommendation and into business case where values will be created to our customers and business units. The role will lead a team of developers and gain hands-on experience in solving technical challenges related to data, software, connectivity, and their applied use cases.HKT InnoLab\\\\xa0is a part of PCCW-HKT Group CTO Office (Technology, Strategy, and Development) which aims to facilitate cross-BU collaborations and identify opportunities from emerging technologies and business models.The job Are you passionate about solving complex problems or advancing R&D innovations? Ready to advance your tech skills? The job holder will have the opportunities to participate in various tech & innovation projects related to our new digital ventures (e.g. FinTech, MedTech, eCommerce) and work closely with the team to facilitate new initiatives across 5G, Cloud, AI/ML, Big Data, and metaverse.Develop prototyping tech/software and AI/ML models with complex data sets to solve interesting business problemsDirect hands-on involvement to deliver MVP by analyzing, designing, implementing and documentation of the solutionApply and test new concepts or techniques in Proof of Concept projectsWork on latest technology and solutions in the areas of 6G/5G, Cloud/Edge computing, IoT applications, Blockchains, AI/ML, Data Science, AR/VR etc.Troubleshooting and resolving issues with coding or designA programme of online tech courses with certificates will be sponsored to advance skillsOn-job training to learn and conduct R&D studies with innovative developments and applied technologiesThe successful candidate will have Degree or above in Computer Science/Engineering, or STEM related disciplinesFresh graduates will be considered and Startup experience is preferableHands-on experience developing software utilizing various coding languages including Java, Python, Pandas, C++, PHP and other development platforms. Linux experience is a plus.Strong analytical mind, self-motivated and able to work under tight scheduleGood communication and interpersonal skillsProficient in English, Cantonese, and Mandarin ,  Overview As a Tech & Innovation Lead of\\\\xa0HKT InnoLab,\\\\xa0you will develop opportunities in line with the business strategy, taking them through proof of concept/MVP, recommendation and into business case where values will be created to our customers and business units. The role will lead a team of developers and gain hands-on experience in solving technical challenges related to data, software, connectivity, and their applied use cases. ,  Overview',\n",
       " 'Our client is a fast-growing supply chain company, currently looking for a Data Analyst to join their data team in supporting business data analysis and enhancing BI systems. You will be involved in a dynamic process to improve business operations and efficiency.  Analyze data to provide insights to business stakeholdersBuild data pipelines and create dashboards to support decision-making processCommunicate with internal stakeholders and external vendors on various projectConduct research on latest technologies  3+ years\\\\  experience as data analyst and BI system developmentHands-on experience in ETL design and BI tools (e.g. Tableau)Solid experience in SQL. Knowledge and experience in Python, R and VBA is highly preferredGood communication skills and strong analytical mindsetThis is a great opportunity to join a fast-growing company and develop with a fun team. If you are interested, please share your CV by clicking \"Apply\" or call +852 36199860 for a confidential discussion. ,  Our client is a fast-growing supply chain company, currently looking for a Data Analyst to join their data team in supporting business data analysis and enhancing BI systems. You will be involved in a dynamic process to improve business operations and efficiency. ,',\n",
       " 'Develop and use data-driven approaches for the purpose of generating business insightConduct customer insights activities to drive value across our online and offline businesses.Equip professional techniques to analyze data, draw conclusions & make marketing recommendations for improvementMonitor media market update and competitors \\\\  key activities to provide business insights and impact analysisProvide visual works; knowledge of design tool is preferredIdentify market trends and insights to optimize sales and business performanceSupport other ad-hoc marketing project as assigned  Holder of a Bachelor’s degree in any discipline (Business, Marketing, Economics, International Relations, or equivalent)2 - 4 years of experience in the fields of market research, content management & consultancyAnalytical, detail-oriented with good communication skills and cooperative attitudeInterests in industry and market trend analysisResearch experiences preferred.Exceptional research report writing skillsHigh attention to detail\\\\xa0We offer attractive remuneration packages including group medical insurance and dental scheme to successful candidates. Please submit your full resume with expected salary provided through \" Apply Now\".*Personal data is collected for employment purpose only. ,     ,  Develop and use data-driven approaches for the purpose of generating business insight',\n",
       " 'Design, develop and maintain database architecture, install, upgrade and patch database softwareControl database access permissions and privilegesDesign, setup and build data warehouse and analytic platformDefine the Data Quality and Data Integration process and monitoringPerform database performance tuningPrepare database documentationExplore new technologies and solutions to fulfill business needs  Degree in Computer Science, Engineering, Information Systems or related disciplinesAt least 2 years solid experience on database administration and support, MSSQL is preferredExperience on database clustering and replicationKnowledge of database performance tuningWilling to learn, good team player and responsibleGood analytical, self-motivated, problem-solving skills and ability to work under pressureCandidate, who is willing to take challenge, enthusiastic about this role, it is a great opportunity to join us!',\n",
       " '\"Automotive Platforms and Application Systems R&D CentreRef  APAS098/23, 8583Job DescriptionWho we are looking for Creativity in new ideas and future focus vision.\\\\xa0Collaboration with colleagues and the community at large.Work Smart, Play Smart!What you ll do Conduct automotive-based research and development projects utilizing artificial intelligence techniquesCreate, develop and maintain data pipeline for the cloud data platformApply big data analytic technologies to develop cloud native analytic algorithm for structured data, unstructured data, time series data and other telematics dataConduct research on state-of-the-art technologies to solve automotive research and development problemsCollaborate with academic, industry partners and customers to drive innovative and forward-looking AI technologiesWork closely with supervisor to keep project progress on track to completion, ensure full compliance with project goals and requirementsPrepare proposals, update project progress, and report issues in timely mannerYou ll be a good fit if you have/are Bachelor or Master Degree in Electronic & Information Engineering / Computer Science / Computer Engineering / Mechatronics Engineering / Data Science or equivalent from a local university or a well-recognized non-local institutionResearch and development experience in data science, computer science, IoT, wireless communication, or big data analytics is in advantagesExperience or knowledge in at least one of the following expertise Strong analytical mind with problem solving skillsBuild, compress, and enhance AI models performance using common AI frameworkHands-on skills of using one of any deep learning framework such as Tensorflow, Caffe, CNTK, PyTorch … etcDevelopment of AR/VR mobile applicationDevelopment of cloud native applications running on Microsoft Azure, Amazon Web Service, Google Cloud ... etcProgramming in Linux Operating System or Robotic Operating System (ROS)Internet of Things (IoT) integration and applicationsSensor integration with camera, LIDAR, ultrasonic, IR ... etcMature, self-motivated and passionate for automotive research and developmentGood interpersonal, communication & presentation skillsNote 1. Applicant may be considered for other positions if not matching the requirements of the subject position.2. This position is a fixed-term contract till 31 August 2024.What we offer and What you’ll like here Exciting new technology development (e.g. IoT, 5G, LoRA, AI etc.) to actualize your creative ideasOpportunities to work with our innovative and vibrant talentsEmbracing work flexibility (including Flexi-work hour and Flexi-location)Dynamic and energetic culture with smart outfits and sport shoesAcademic training scholarship to take your career up a notch\\\\xa0Dental benefitMedical benefits from Day-1 with extended coverage to dependent(s)Apply now if you’re ready to take the challenge! \\\\xa0Do not miss this opportunity to join us to Create Value and “MAKE SMART SMARTER”!\\\\xa0\\\\xa0HKPC will take into consideration both the quantitative and qualitative requirements of the post when selecting the suitable candidates.\\\\xa0\\\\xa0A competitive salary package commensurate with academic qualifications and experience will be offered.\\\\xa0\\\\xa0The successful candidate will be employed on a fixed-term contract basis, which is renewable subject to appointee’s performance and the Council’s development needs.Applicants are welcome to\\\\xa0submit application\\\\xa0at the HKPC e-Recruitment System (careers.hkpc.org) in 1\\\\xa0week\\\\xa0from the posting date.\\\\xa0\\\\xa0Recruitment will continue until the position is filled.\\\\xa0\\\\xa0Personal data collected will be used for recruitment purpose only. Candidates not invited for interviews within 6 weeks may consider their applications unsuccessful and the applications will be disposed by HKPC within 12 months.\",  Automotive Platforms and Application Systems R&D Centre ,  Ref  APAS098/23, 8583',\n",
       " '\" Assist HoD to prepare the audit analytics roadmap and implementation plan and monitor the progress/achievement of the plan.Work with internal auditors to formulate audit analytics  requirements.Liaise with business units and/or Information Technology Division to obtain relevant data for audit analytics purpose.Partner with other data analyst(s) to develop a set of audit analytics tools and/or dashboards by leveraging auditing rules and/or machine learning capabilities.Work with other data analyst(s) to perform routine maintenance of the developed audit analytics tools and/or dashboardsAssist HoD to develop and maintaina.\\\\xa0\\\\xa0\\\\xa0\\\\xa0\\\\xa0\\\\xa0\\\\xa0\\\\xa0\\\\xa0\\\\xa0 Audit analytics methodology and procedures to govern the audit analytics lifecycle and documentationb.\\\\xa0\\\\xa0\\\\xa0\\\\xa0\\\\xa0\\\\xa0\\\\xa0\\\\xa0\\\\xa0\\\\xa0 Knowledge of leading practices and activities relevant to audit analyticsAssist HoD in the engagement with key stakeholders, which include line/senior management, external auditors and regulators. Bachelor Degree in Data Science, Computer Science, Accounting, Business Administration, Finance, Mathematics, Statistics or related discipline.Minimum 4-5 years of financial industry experience with 1-2 years of relevant experience in data analytics.\\\\xa0Sound knowledge of data analytics, including data preparation, data interpretation, model development and testingProficiency of analytical tools and programming language (e.g. SAS, Python, ACL, SQL) and data visualization tools (e.g. PowerBI/Qlikview)Possess qualifications of ECF-AML would be an advantageKnowledge of audit methodology, risk management and/or financial industry is an advantageGood command of English (Oral & Written)Strong analytical, organizational, problem-solving and communication skillsDynamic and good interpersonal skillHigh level of integrity and drive, ability to work under pressureAbility to multi-task and possesses strong time management skillGood collaboration and growth mindsetAttractive remuneration package will be offered to the right candidate. Please apply with full resume stating present & expected salary and contact phone number to\\\\xa0The Human Resources Manager, 10/F, 161 Queen’s Road Central, Hong Kong. Please quote the reference.Personal data collected will be used for recruitment purpose only. For more information, please visit our website \\\\xa0http //www.ocbcwhhk.com.\",    ,',\n",
       " 'This position has responsibility for the Data Analytics Solution Implementation & Delivery reporting to the Data Analytics Solutions Delivery ManagerPeople & Business  \\\\xa0Manage, Work and Support client projectsCommunicate project task deliverablesEngage, Support, Share and Assist the teamImplementation and Delivery  \\\\xa0\\\\xa0Extract, load, clean, and aggregate data from various sources for analytics purposeBuild workflows and data pipelines to automate data processing tasksDesign, develop, maintain and manage advanced reporting, analytics, dashboards built in Data discovery Platform including but not limited to Qlik, Alteryx, PowerBI and TableauUtilize various data visualization tools to develop dashboards and to visualize dataWork with business and IT teams in various business units to develop reports or address data needs to provide reporting solutionsReview functional and technical specifications prepared by clients or partner vendorsExtract data from databases and data warehouses for reporting and to facilitate sharing between multiple data systemsPerform and document data analysis, data validation, data mapping/design, by accessing multiple sourcesPerform data transformation / ETL to create required data sets for data modelling and dashboard buildingWork closely with the infrastructure team on nonproduction and production infrastructure and environmentsWork with teams to manage defects and bugs during the SIT and UAT phaseAttention to details and high standards of documentation are expectedEnsure projects are delivered on-time to the standard required and within the constraints of the delivery processCommunicate and manage proactively on issues affecting deliveryBe able to work with other Data Analytics solutions such as Microsoft Azure, PowerApps, Apache Spark is an advantageDesired Skills and Experience  \\\\xa0Degree or above in Computer Sciences, Statistics, IT or related discipline preferredA minimum of 2 years’ experience in a data analytics related or consultative roleHands-on project experience using Alteryx or related tools is an absolute advantageProactive, self-motivated to drive high-quality and efficient solutions delivery and willing to work with othersExcellent verbal and written communication and interpersonal skillsGood communicator, client facing experience is preferredFluent in English and Cantonese. Mandarin is a plusSome technical knowledge in programing, scripting and SDLC is a plusCertified and/or Knowledge in MS Data Factory, MS Platform is an advantageKnowledge in data visualization tools such as Qlik, PowerBI, Tableau etc. and related experience would be an advantageKnowledge in enterprise data storage and transformation platforms such as ETL tools from Azure, AWS and GCP is a plusKnowledge in RDBMS such as Oracle, SQL, IBM and Database platform tools such as Snowflake, MS SQL, Azure Synapse, Databricks, DW/DL etc. and related experience would be an advantageFull training and support to become expert of tools are provided. Sponsors on professional certifications are providedIndividuals with more experience would be considered as Senior Data Analytics ConsultantThis is an exciting opportunity to join a fast growing and leading data analytics solutions company that is growing rapidly delivering a range of advanced data and analytics solutions across various industries. If this sounds like the perfect opportunity for you then please send your resume including your current OTE compensation package to us. ,  This position has responsibility for the Data Analytics Solution Implementation & Delivery reporting to the Data Analytics Solutions Delivery Manager ,  People & Business  \\\\xa0',\n",
       " 'Huawei Hong Kong Research CenterHuawei Hong Kong Research Center was established in 2018, focusing on chipsets, software engineering, AI, and theoretical researches. We are currently seeking high-caliber Engineers and Researchers at all levels to join our new team.Hong Kong AI Framework & Data Tech. LabHong Kong AI Framework & Data Tech. Lab is newly founded and is one of the innovation labs in Huawei HKRC, which is endorsed by the Central Software Institute of 2012 Laboratory. With the mission to make significant contributions to both the company and the society, our lab focuses on fundamental research and advanced technology development in real-world applications in data mining, artificial intelligence, data science and related fields. In the current stage, our R&D areas include explainable and trustworthy AI, data processing technologies and framework design, as well as innovative software architecture design based on these innovations. Our R&D product contexts include Huawei’s AI framework (MindSpore), cloud-native software, serverless computing stack, etc. We are actively looking for talented researchers and engineers to join us.Software Architect, Data Engineering (Junior/Senior)Job  Work on the design for data and system solutions that handle various data science workloads, e.g., graph algorithms, SQL query, ML models inference etc. This includes design of different parts of the system, code components, as well as decision on the right tools and suitable frameworks to use.Work on the system evaluations and tuning, e.g., benchmarking at different levels, drill down to check the bottleneck and tuning to improve the system performance. Conduct research and algorithm design to build cost models of complex data science workloads.Drive adherence to standards, processes and policies and create architecture documentation for the entire data and system team, working effectively across various data and AI teams.Develop distributed cache system and optimize performance.Develop batch/stream processing systems such as Spark and Flink.Develop distributed message queues system.Position Competency  Master degree or above in Computer Science, Mathematics, Electronic engineering. At least 3 years’ experience in database management, Big Data and AI/ML. Candidate with more experience may take senior position.Excellent programming skills, proficient in at least one of the mainstream programming languages, including Python/C++.Experience with a few of the following tools and frameworks  Flink, Spark, Athena, Flask, Docker, K8s, SageMaker, Kubeflow, Airflow, MLflow; PyTorch, TensorFlow, TorchScript, TVM, TFRT, ONNX. Experience in MindSpore or AKG is a plus.Deeply technical and analytical with implementation and architectural experience in Big Data, AI/ML engineering and Data Warehousing.Have some knowledge of large-scale distributed data systems, understand Serverless, and have relevant practical experience.Familiar with the working mechanism of Pravega/Alluxio/Redis/Kafka framework, etc and can develop further functions based on them.Be familiar with the low-level storage, memory arrangement, and index construction of KV database.Strong problem-solving skills, including optimizing new processes.Ability to see around corners, predict needs, and identify patterns.----------------------------------------------------------------------------------------------------We offer competitive remuneration package to the right candidate.\\\\xa0 Interested parties please send your full resume with present and expected salary, available date by email to us or click APPLY.\\\\xa0 All information collected is strictly for recruitment purpose.',\n",
       " 'Is this your next challenge in business analysis?The challenge is to Provide complete, accurate and timely management reporting and business insights to senior managementTake part in the budget and forecasting process including planning, budgeting and forecasting of sales, margins and working capitalSupport in development and enhancement of promotional analytics modelling, financial modelling / budgeting and data visualization (dashboards in Tableau for management use)Provide analytical support to other functions as requestedSupport financial and strategic projects as requestedDo you have experience in commercial finance?Bachelor’s degree in Finance / Engineering / Statistics / Computer Science / Data Science2+ years of relevant experience, with experience in FMCG industry being highly preferredAble to work well as a team and independentlyAble to work under pressure and tight deadlinesStrong stakeholder and time management skillsStrong Excel and data visualization knowledge is a must (preferably in Tableau but other software such as PowerBI would also be acceptable)Knowledge in SQL, VBA, Python, R and/or Tableau would be advantageousIf you have the right skills and experience, this is an opportunity to build your career with Pan Asia’s leading retailer.DFI Retail Group is an equal opportunity employer and responsible for ensuring that all personal information collected from each Candidate presented to DFI Retail Group is used for recruitment purposes only and the personal data will be kept and handled confidentially. We will retain the applications of candidates not selected for a period of no more than 24 months. The data collection process is in accordance with all applicable laws and compliant with the Code of Practice on Human Resource Management.To find out more about Our Businesses and Our People, please visit our website \\\\xa0https //www.DFIretailgroup.com',\n",
       " '\\\\xa0Understand data sources and business use casesDesign efficient and reliable data pipelines for both operational and analytical use cases.Implement suitable data model for data warehouse in order to achieve efficient data retrievalIdentify, analyze, and interpret trends or patterns in complex data sets consisting of transactional, web, and other types of data.Translate findings into workable strategies and present them as visualizations or reports.Deliver appropriate testing and documentation for the deployment of data pipelines and data modelsProvide ongoing data platform supports\\\\xa0   University graduate in Computer Science, Information Technology or Data Science related disciplines2+ years of working experience in handling sizeable data lake and/or data warehouse as a data engineer or cloud engineerSolid hands-on experience in AWS or GCP services, such as Redshift, Glue, BigQuery, Data Flow.Good understanding of cloud infrastructure and big data technologiesSkilled in SQL, Python and other related scripting and programming languageKnowledgeable and experienced in programming and microservicesEffective verbal and written communication in English and ChineseGood team player with strong interpersonal and communication skillsForward thinking, embracing changes, fast-learning, energetic, able to perform in challenging environment ,     \\\\xa0 ,',\n",
       " '\"Job DescriptionMy client, a well-known player in real estate industry, is looking for a (Senior) Data Engineer to join their internal expanding data tech teamRole &  Build and optimize data sets,  big data  data pipelines and architecturesParticipate to set up required infrastructure for optimal data ETL process from various sourcesBuild analytical tools to utilize the data pipeline, providing actionable insight into key business performance metricsDefine the Data Quality and ETL Monitoring process to ensure data availability and timelinesSupport the planning and implementation of data platform servicesSkills & QualificationsMore than 8 years  expert on data analytics, with solid ML experience is a plusBe familiar with programming languages like Python or ScalaExperience on Data Modelling, Handling, Data API etc.Solid hands-on exprience on SQL/noSQL software developmentExperience on software frameworks such as Akka Stream, Spark and Hadoop is a plusThis is a fantastic opportunity and great project to work with 5 working days a week, comprehensive remuneration packages and training provided. We are hiring within the week and If you think this role is suitable for you please send your CV to  email\\\\xa0protected  or call on +852 3018 0382.\"',\n",
       " '\"Our client is seeking candidates to work on a 3-4 months HR data project. The ideal candidate would have experience with Workday, Pegasus, or another renowned HR system. This position requires a high level of accuracy as a data analyst.Client DetailsOur client is the largest stock exchange by market capitalisation, and the Hong Kong government is the largest shareholder. Financial markets in Hong Kong are operated by their subsidiaries.DescriptionMaintain HR systems (Workday and Pegasus) by accurately entering employee data, including on-boarding, movement, and off-boarding.Assure accuracy and completeness of the HR system s personnel data.Assist employees with their leave requests and absences.Ensure that exemptions, job status, and job titles are updated.Investigation, identification, and resolution of discrepancies in the HR system, as well as scanning and uploading documents.Provide support to the Head of Human Resources Operations for other operational tasks.ProfileCandidates who are immediately available are preferredA thorough understanding of both large and small HR systems, such as Workday, Pegasus, etc.Strong data skills or experience with HR data administrationExcellent interpersonal and communication skills, well-organised, and dedicatedPossess excellent written and spoken English and Cantonese skillsExcellent knowledge of Microsoft Office applications, Excel, and English word processingAdaptability to a fast-paced environment and the ability to multitaskJob OfferContract gratuity bonusExcellent brand name across the industryEfficient interview process and can start immediatelyHRIS Project operations exposureCorporate working location - CentralTo apply online please click the  Apply  button below. For a confidential discussion about this role please contact Hilary Tsang +852 3602 2494.\"',\n",
       " 'Background  My client is a well-known Bank listed in Hong Kong which they are looking for a Data Analytics & Modelling Manager to join their data team.  Assist team head to implement data and analytics strategyWork with all departments to identify business opportunities and support management decision with data insightsProvide guidance on capabilities and functionalities of visualization toolsProvide guidance on capabilities and functionalities of visualization toolsDevelop data model includes the values the company need, where they come from, and how they’re structured.Support users to build artificial intelligence / machine learning (AI/ML) models in data science / analytics use casesProvide in-depth analysis with advanced customer analytics and big data technology by using internal and external dataRequirement University graduate in Computer Science, Applied Statistics, Decision Science, Data Science or in relevant disciplinesMinimum 5 years working experience in Data Science / Business AnalyticsStrong knowledge on data management and analyst, data visualization (e.g. Tebleau, PowerBI), data modelling,\\\\xa0data science and machine learningHands-on experience in Python, SQL, Google Big Query, SAS, etc.Experience of having solved complex analytical and technical problemsExperience in database such as Teradata or similar technologyExperience in cloud environment (e.g. GCP, AWS, etc) is an advantageExcellent communication and negotiation skillsStrong interpersonal skills and a good team playerGood command of both spoken and written English and ChineseCandidates who are interested in this role, please apply directly by submitting your latest CV including your current and expecting salary. Please note that only shortlisted candidates will be notified.\\\\xa0',\n",
       " '\"Are you looking for a career at one of the world’s largest research organizations?Due to the rapid growth of the business, we are looking for executive support to work on exciting market research programs. We are also keen to groom the next generation of market researchers to cope with the transformation of our industry.Working with us will provide you opportunities to be exposed to a wide range of industries, interesting and innovative tools and platforms as well as insightful analytical frameworks.If you consider yourself agile, bold, collaborative, determined and entrepreneurial, come to join us!Role Objective / PurposeThe role of Research Assistant is to provide support to the research team member.\\\\xa0Role &   Conduct desk research to maintain an accurate, complete, up-to-date and insightful understanding on research subjects and clientsAssist senior staff in proposal preparation, fieldwork coordination, analysis and report writingUndertake administrative tasks to support research staff on research project executionPerson specification\\\\xa0 Qualification：Bachelors  or Master’s degree major in Business / Humanities / Social Science a plusProficient in both written and spoken English and Cantonese, Mandarin a plusAble to handle stress and work independently under time pressureGood analytical thinking, good business sense a plusGood interpersonal skills, be open minded, empathetic, energetic and articulateIdeally a self-starter with good time management; detailed oriented a strong plus\\\\xa0\\\\xa0 ：Good analytical skillSensitive to numbers and enjoy working on reports with numbersProficiency in MS Office (Word, Excel, PowerPoint)Good interpersonal skills and communication skillsAt least 15 hours+ per weekWork Location \\\\xa0WhampoaPlease write down your availability in your CV.Interested parties please send\\\\xa0resume to mail to us\\\\xa0(with your available working timeslots is a MUST). All information collected will be used for recruitment purpose only. The Company may retain applications for future opening or other appropriate positions within the Company. Resumes received will be destroyed within 12 months.\",  Are you looking for a career at one of the world’s largest research organizations? ,  Due to the rapid growth of the business, we are looking for executive support to work on exciting market research programs. We are also keen to groom the next generation of market researchers to cope with the transformation of our industry.',\n",
       " '\"Our client is a renowned Luxury Retail Group who offers diversified and premium consumer products. They are now looking for a CRM Manager to join their dynamic team to enhance the customer experience and bring in new inspirations.Client DetailsOur client is a renowned Luxury Retail Group who offers diversified and premium consumer products. They are now looking for a CRM Manager to join their dynamic team to enhance the customer experience and bring in new inspirations.DescriptionReporting to the CRM Director, you will be responsible for optimizing customer journeys by translating CRM data into consumer insights and resulting in satisfactory omni-channel experience.This role focuses onPlan and deliver CRM strategies for customer data capture, acquisition, conversion, engagement and retention to drive customer lifetime valueLead the website revamp projects and support the launch of the CRM systemBuild new performance management analytics and dashboards in Power BI, Salesforce and Adobe (CJA) platformsProvide CRM KPI reporting on regular basis and measure results of all CRM initiatives to drive continuous improvement on program performanceProvide intelligence to pre-build tracking metrics into marketing campaignsConduct research on existing and external customer, latest market trend for customer experience enhancements, sales conversion, and portfolio expansionProfileThe group is looking for a talent who has at least 10 years of experience in CRM, customer data analytics or loyalty program from luxury retail, hospitality, fashion and beauty industry.The successful candidate should be a degree holder or above in Business Analytics, Information Systems, Data Science, Statistics, MIS and with strong background in CRM, customer acquisition, re-engagement, and retention strategies to drive commercial growth.Experience with Data Visualization and Dashboard Tools (Tableau, Power BI, Adobe Journey Analytics) is a must. The successful candidate should be proficient in MS Excel or Google Sheets to perform raw customer data analysis.Proficiency with SQL, SAS, ILOG, R or Python. Excellent command in written and spoken English and Cantonese, Mandarin a plus.Job OfferThe Group offers a competitive salary package and a promising career path for high potential candidates.To apply online please click the  Apply  button below. For a confidential discussion about this role please contact Grace Ngon +852 3412 4862.\"',\n",
       " 'We are now looking for a suitable person to fill the following position in the Registry Academic Service Manager (Systems and Data) (Ref  23000R1)Major Duties and  The appointee will be responsible mainly for the following Leading the systems team of Registry to move forward systems development and improve functionality of Registry systems and web applications;Working with internal teams of the Registry and the Information Technology Office of the University to maintain and enhance the central student administration system;Developing and implementing systems to streamline operations and supplement the student administration system;Designing data models and performing statistical data analysis to make recommendations in support of decision making;Overseeing surveys and generation of statistical reports for submission to the management and external bodies;Assisting in the formulation of policies and procedures; andPerforming any other duties as assigned.CandidatesCandidates should possess the following qualifications, experience and competence A recognized degree, preferably in Computing Science/Information Technology, with at least 6 years’ relevant post-qualification system development and supervisory experience;Solid knowledge in business process re-engineering, system design analysis, database design, system implementation and project management;High proficiency in computer applications, including JavaScript/ Python, and SQL, and strong system sense for operation streamlining;Have experience in RPA development;Have experience in data analyzing process including data extraction, manipulation, processing, storage, archival; Preferably ETL with data warehouse and BI platform;Excellent interpersonal and communication skills in both English and Chinese, preferably including Putonghua;Strong organizational and problem-solving skills; andAbility to multitask and work under pressure.Candidates may be invited to attend a written test.Terms and Conditions for AppointmentAn attractive remuneration package, including basic salary, an end-of-contract gratuity, and a discretionary incentive payment, where applicable, will be offered to the right candidates. Generous annual leave, staff-development sponsorships, medical and dental benefits, and life insurance coverage will also be provided.To ApplyCandidates who are interested in joining us may submit their applications via the University’s eRecruitment System.https //hkmu.taleo.net/careersection/ex_full_time/jobapply.ftl?lang=en&job=23000R1Closing date of application \\\\xa0\\\\xa0\\\\xa0\\\\xa0\\\\xa0\\\\xa0\\\\xa0 22 May 2023The personal data collected will be used for the purpose of considering your application for employment.\\\\xa0 For details, please refer to the “Personal Data (Privacy) Notice for Job Applicant” on the University’s website. If you are not contacted by the University within eight weeks from the closing date of application, you may assume that your application was unsuccessful ,  We are now looking for a suitable person to fill the following position in the Registry  ,  Academic Service Manager (Systems and Data) (Ref  23000R1)',\n",
       " 'Lead a team of IT professionals to analyse and design various digital applications including cloud native enterprise-wide loyalty engine, Customer Relationship Management (CRM) system, mobile apps, websites and AI / Data Analytics platform.Oversee the implementation, maintenance and optimization enterprise Loyalty Engine & CRM (built on Microsoft Dynamics 365) as well as ensuring its smooth operation and adherence to best practices including configuration and customization.Closely work with business users to understand strategic business needs and analyse requirement in detail in order to propose optimal business models and digital solutions.Take lead to work with business users, IT stakeholders (e.g. Enterprise Architect, Security experts, Infrastructure experts), vendors and contractors to prioritise tasks, conduct requirement study, solution design, technical system design, coding, testing, documentation and implementation to ensure a high quality standard solutions to meet business needs.Provide timely support and troubleshooting to your responsible applications / systems in order to sustain high level of IT services.Assist managers to perform project planning and budgeting.Keep abreast of latest trends in technology, industry and business domains of digital customer experience, digital commerce, and smart city development. Degree in Computer Science / Information Technology / Information Systems or a related disciplineA minimum of 5 years’ relevant experience, of which 1 year should be at supervisory levelExperience and knowledge in managing the following activities / systems Cloud native application architecture in Microsoft Azure (including Microservice architecture, docker, CDN, DevOps, Logic Apps and so forth)Software development using .Net Core & Microsoft Dynamics 365Software development tools such as Visual Studio and GitExperience with data analysis and visualization tools such as Power BIKnowledge of security best practices for software developmentOracle Database, Microsoft SQL Server, Microsoft .NET, Microsoft Power BISoftware requirement management and vendor delivery managementSoftware development methodologies such as Agile / Scrum ,  Lead a team of IT professionals to analyse and design various digital applications including cloud native enterprise-wide loyalty engine, Customer Relationship Management (CRM) system, mobile apps, websites and AI / Data Analytics platform. ,  Oversee the implementation, maintenance and optimization enterprise Loyalty Engine & CRM (built on Microsoft Dynamics 365) as well as ensuring its smooth operation and adherence to best practices including configuration and customization.',\n",
       " '\"Executive SummaryPublic Listed Co. with 20 years  solid business presenceEmploying around x300 staffs and being the market Leader of Data & BI solutions across Asia PacificIT partnership with major enterprise sectors including banks, financial, government, Retails.Attractive basic salary with KPI incentives quarterly; fringe benefitsYoung, friendly and dynamic team cultureMore experience will be considered as Product Manager Keep up-to-date on relevant competitive solutions, big data market products and servicesWork closely with business development team, account services team or business partner to promote and align data solution and BI service with customers’ business requirementsPerform technical presentations for customers, partners and prospects & able to differentiate from othersScope the technical solution required to address customer requirements, assesses customers’ met and unmet needs, and recommends solutions that\\\\xa0optimize\\\\xa0value for both customer and companyExecute marketing plans and strategy for launch new solutionsLiaising with vendors to ensure their requirements meet customer Needs. Degree or above in related disciplinesAt least 3-5 years’ client facing/IT project working experience, preferring 2 years’ experience in data productsTechnical knowledge & experience on database, Tableau, Alytrex, Talend, or Confluent will be preferredWith team spirit, and can independently solve problems and common project\\\\xa0Good presentation & written skills in English, Cantonese & Mandarin\\\\xa0Good business sense\\\\xa0Proactive to communicate with other departments and clientsInterested candidates, please share your CV to gloria(a)endeavourasia.com\\\\xa0or call 3956 1829 Gloria for further discussion.\",  Executive Summary , \"Public Listed Co. with 20 years  solid business presence\"',\n",
       " '\"Postdoctoral Fellow (Ref. No.  CAiRS-R23/P5.2 - Integrity of Sensor Data) Appointment period will end on 30 June 2025 Research Associate (Ref. No.  CAiRS-R24/P5.2 - Integrity of Sensor Data) Appointment period will end on 30 June 2025 DutiesThe appointees will report to the Project Leader and the Centre Director or his delegate (currently Programme Manager) and perform research and related work in the development of innovative methods for ensuring the reliability of sensors and the integrity of data produced by sensors using the machine learning techniques.The Postdoctoral Fellow appointeewill be required to convert/conceptualize industrial pain point/motivation to a good structure AI (machine learning/deep learning/reinforcement learning) reliability and safety research associated with the latest technologies such as cloud, 5G, IoT...etc.\\\\xa0work with talents from industrial collaborators and other internal researchers on the research subject matter with project proposal, tests, project report, and communicate internally and externally the research plan;prepare and publish relevant research papers in high-tier peer-reviewed journals;\\\\xa0Leverage and share research expertise and skills on a daily teamwork basis. Has genuine interest in AI (machine/deep learning) technology; and\\\\xa0perform any other duties as assigned by the Centre Director or his delegates.The Research Associate appointeewill be required to plan industrial pain point/motivation to a good structure AI research;team up with a group of postdoctoral researchers with specific expertise to implement the research work and experiment;\\\\xa0drive to reach the reliability and safety objectives within scheduled timeline;report project work issues and support devising of project proposal and report; andperform any other duties as assigned by the Centre Director or his delegates.\\\\xa0QualificationsApplicants for the post of Postdoctoral Fellow should have a doctoral degree in Data Science, Electronic Engineering, Information Engineering, Computer Science, or an equivalent qualification in a related field. They should also have a strong analytical skill with experience in big data and artificial intelligence research.Applicants for the post of Research Associate should have a master’s degree in Data Science, Electronic Engineering, Information Engineering, Computer Science, or a related field. They should have a good analytical skill with interests in big data and artificial intelligence research.For both posts, applicants should also have/ be possessing research experience and interest on sensor application usage and the corresponding data integrity issue;proficiency in machine/deep learning and programming language (e.g. C, Python, Matlab);good interpersonal and communication skills; andgood command of written and spoken English.Fresh graduates are also welcome.Preference will be given to the candidates who have experience in electronic system development.\\\\xa0Salary The maximum monthly salary allowance is HK$23,000 for research talents with a master degree and HK$35,000 for those with a doctoral degree.An additional monthly living allowance of HK$10,000 will be provided to research talents with a doctoral degree.What you enjoy at CAiRS We offer highly competitive salary commensurate with qualifications and experience, in addition to the following benefits 5-day workStaff s entitlement to paid annual leave will increase progressively according to the Centre’s guidelineFlexible working hours (for researchers)Medical & dental insuranceExcellent and friendly office environment (newly renovated and next to seashore)Work-life balanceWork-life balanceFree drinks and snacks in officeWhat you enjoy at Science Park Shuttle bus to Science Park from various locations in HKRecreational facilities in Science Park, e.g. gym and swimming poolCan apply for studio apartment in InnoCell (a smart living and co-creation space designed for I&T talents in Science Park) subject to availability and eligibilityApplication GuidelinesPlease return the completed application form, together with a detailed curriculum vitae, to the CAiRS\\\\xa0via Apply NowApplication form can be downloaded from\\\\xa0hereApplicants who are not invited to an interview within two months of the closing date should consider their applications unsuccessful\",  Postdoctoral Fellow (Ref. No.  CAiRS-R23/P5.2 - Integrity of Sensor Data) ,   Appointment period will end on 30 June 2025',\n",
       " 'Reports to \\\\xa0Application Manager BICCDepartment \\\\xa0Information Technology (IMT)Role IntroductionThis role, Senior Solution Architect – Data and Analytics, is responsible for developing and\\\\xa0governing\\\\xa0fit-for purpose\\\\xa0solution\\\\xa0designs\\\\xa0that\\\\xa0address\\\\xa0the\\\\xa0business requirements and align to the architecture strategies, roadmaps, and\\\\xa0standards.The key focus will be all solution surrounding data and analytics,\\\\xa0including data warehouse, big data platform, visualization and analytics tools. You\\\\xa0are responsible to define solutions to bridge gaps and make sure the project scope\\\\xa0is maintained, and solutions implemented in line with design.Key  Drive to develop and analyse solution options in the Data and Analytics area, covering data lake or lakehouse, cloud data warehouse, data blending & stitching, analytics & visualization; and based on business demand, enterprise architecture and a balanced assessment of functional capabilities, non-functional capabilities, risk, cost and benefits.Nurture a deep understanding of the solution architecture, translate business process, information entities and systems solutions into accurate, easily understandable architectural diagrams or viewpoints.Cross-team collaboration with Enterprise Architects, Application Manager and Solution Analysts to explore business demand at pre-prioritization stage. The work may include requirements assessment, solution planning, prototyping and impact analysis.Accountable to oversee package-based business solutions holistically to ensure seamless integration with other application / infrastructure componentsMust have a strong background of Solution Design, Review and Implementation.Gather, understand and synthesize documentation available from vendors, SMEs, systems, product managers and business analysts to be able to extract right information and transform it into different architectural diagrams or viewpoints.Consult with Enterprise Architects and project teams to harmonize systems or infrastructure with the enterprise architecture. Identify when the enterprise architecture cannot accommodate project needs. Drive discussions among Enterprise Architects and projects teams to agree on the solution architecture.Accountable for ensuring solution architecture design work is documented in a structured fashion matching the EA framework. Facilitate sharing of the artifacts to drive reuse.Drive to provide consultancy on performance optimization for new and existing solutions, in particular during production fire-fighting situations.Understand, advocate and augment the business and IT strategies specifically on EA development and service delivery. Be prepared to educate project team members (including business users) on the value of EA and principles that guide technology decisions for the enterprise.Keep abreast of the latest trends in technology, ensure timely exploration and proactively communicate IM’s position towards the introduction of relevant / key emerging technologies. Modify the EA to accommodate near-term and long-term needs.Cross-team collaboration with the Technology & Architecture team to drive business and technology innovation to achieve corporate strategic plans and objectives.Work on prototypes and concepts for new technologies and ideas with little or no guidance.Manage junior Solution Architects as part of program (multiple related projects) delivery to design multiple cohesive and integrated solutions.Act as the mentor of Solution Architects by providing guidance on both technical and personal development aspects.Cross-team collaboration with the Architecture Practice Lead to develop, monitor and continuously improve the Solution Architecture discipline Drive to develop and analyse solution options in the Data and Analytics area, covering data lake or lakehouse, cloud data warehouse, data blending & stitching, analytics & visualization; and based on business demand, enterprise architecture and a balanced assessment of functional capabilities, non-functional capabilities, risk, cost and benefits.Nurture a deep understanding of the solution architecture, translate business process, information entities and systems solutions into accurate, easily understandable architectural diagrams or viewpoints.Cross-team collaboration with Enterprise Architects, Application Manager and Solution Analysts to explore business demand at pre-prioritization stage. The work may include requirements assessment, solution planning, prototyping and impact analysis.Accountable to oversee package-based business solutions holistically to ensure seamless integration with other application / infrastructure componentsMust have a strong background of Solution Design, Review and Implementation.Gather, understand and synthesize documentation available from vendors, SMEs, systems, product managers and business analysts to be able to extract right information and transform it into different architectural diagrams or viewpoints.Consult with Enterprise Architects and project teams to harmonize systems or infrastructure with the enterprise architecture. Identify when the enterprise architecture cannot accommodate project needs. Drive discussions among Enterprise Architects and projects teams to agree on the solution architecture.Accountable for ensuring solution architecture design work is documented in a structured fashion matching the EA framework. Facilitate sharing of the artifacts to drive reuse.Drive to provide consultancy on performance optimization for new and existing solutions, in particular during production fire-fighting situations.Understand, advocate and augment the business and IT strategies specifically on EA development and service delivery. Be prepared to educate project team members (including business users) on the value of EA and principles that guide technology decisions for the enterprise.Keep abreast of the latest trends in technology, ensure timely exploration and proactively communicate IM’s position towards the introduction of relevant / key emerging technologies. Modify the EA to accommodate near-term and long-term needs.Cross-team collaboration with the Technology & Architecture team to drive business and technology innovation to achieve corporate strategic plans and objectives.Work on prototypes and concepts for new technologies and ideas with little or no guidance.Manage junior Solution Architects as part of program (multiple related projects) delivery to design multiple cohesive and integrated solutions.Act as the mentor of Solution Architects by providing guidance on both technical and personal development aspects.Cross-team collaboration with the Architecture Practice Lead to develop, monitor and continuously improve the Solution Architecture discipline\\\\xa0Application Deadline  27 April 2023Personal & Application InformationCathay Pacific is an Equal Opportunities Employer. Personal data provided by job applicants will be used strictly in accordance with our personal data policy and for recruitment purposes only. Candidates not notified within eight weeks may consider their application unsuccessful. All related information will be kept in our file for up to 24 months. A copy of our Personal Information Collection Statement will be provided upon request by contacting our Data Protection Officer.',\n",
       " '\"About the BusinessFinancial Advisory (FA) practice of Deloitte China provides strategic and financial advisory services to clients throughout all phases of the economic cycle. FA comprises several distinct but related global service lines whose shared principal objective is the creation and enhancement of shareholder and stakeholder value.\\\\xa0Deloitte Forensic Services assist organizations in managing forensic issues and focus on outcomes that address reputation protection, asset recovery and prevention.Work you ll doRecognize the operating model changes within specific functions required to achieve an organization’s strategic visionUnderstand how business functions operate and how use of technology impact a client’s business by keeping up-to-date on industry/sector trends and leading practicesAddress client business challenges in the intersection of process and technologyArticulate how technology enables and differentiates the business and communicate this effectively to clientsManipulation of data sets to understand their meaning and recreation of database systems to assist in providing business insights to clientsBuild intuitive charts and graphs, organize insights and define logical flow to tell better stories with data using innovative visualization toolConduct and/or participate in early testing and quality assurance to validate prototypes and uplift standardsDeliver results for clients by applying technology domain knowledge and appropriate methodologiesDuring your tenure with us, you will demonstrate and develop your leadership and professional capabilities in the following areas  Inspiring, Creating purpose, Driving agility, Building diverse capability, Influencing, Collaborating, Delivering value, Building the business, Analytical acumen, Effective communication, Engagement management/delivery excellence, Managing change, Managing quality & risk, Sales excellence, Strategic thinking and problem solving, and Tech savviness.We are looking for someone withTo be considered for this position, you must demonstrate skills and experience in the following areas \\\\xa0Minimum 1 year\\\\xa0of professional experience in global consulting firm working with a focus in technology, including strong track record of project management and deliveryCandidate with over 3 years relevant experience would be considered for Senior Associate levelExhibit commercial acumen and understanding of business driversStrong analytical and problem solving skills with high commitment to qualityApplies data mining tools and technology (e.g. SQL) to extract useful information from a variety of data sources (structured and unstructured)Performs advanced and predictive analysis (e.g. regression analysis) to identify patterns and anomalies\\\\xa0Delivers data-based insights to senior team members to support fraud detection and prevention initiativesDemonstrated enthusiasm for learning about and working with new and emerging technologiesDemonstrated understanding of software development lifecycle and best practices, and Agile software development methodologiesAbility to understand requirements and map to technical implementationExcellent command of spoken and written English and Chinese, fluency in Putonghua is mandatory.Desired Attributes Hands-on experience working with data visualization tools (e.g. Tableau, QlikView), RPA (e.g. UiPath, Automation Anywhere), or web application technologies.Full stack development experience would be a plus.Analytics experience using Python, R or SAS.Accounting, finance, financial crime, forensic or fraud knowledge or training.Shape your future through impact that mattersFor more than 100 years of history, Deloitte witnessed also had the honor to be part of the economic boom in China by providing industry-leading audit & assurance, consulting, risk advisory, financial advisory, tax & business advisory services to nearly 90% of the Fortune Global 500 Chinese companies and thousands of private companies. Deloitte China today carries on our centenary professionalism and strives to become the undisputed leader in professional services in China with strong responsibility and capabilities in digitalization and multidisciplinary services.Deloitte has been named China s Top Employer since 2006, Universum s Most Attractive Employer in China since 2008, and the Best Workplaces in Greater China since 2019.All qualified applicants will receive consideration for employment regardless of their background, experience, identity, ability or thinking style, and if you need assistance during the application process for accessibility reasons this is available upon request.Ready to take on new challenges? Apply now!Stay connected for the latest career opportunities, follow us on Deloitte China Social Media.\"']"
      ]
     },
     "execution_count": 58,
     "metadata": {},
     "output_type": "execute_result"
    }
   ],
   "source": [
    "lst_jrjd[61:90]"
   ]
  },
  {
   "attachments": {},
   "cell_type": "markdown",
   "metadata": {},
   "source": [
    "## Capture required skill"
   ]
  },
  {
   "cell_type": "code",
   "execution_count": null,
   "metadata": {},
   "outputs": [],
   "source": [
    "# SAS, Oracle\n",
    "# SQL, MSSQL, MS SQL , PostgreSQL, MySQL\n",
    "# BI tools / Power BI / Tableau\n",
    "# Microsoft Azure Cloud, Azure, AWS\n",
    "# Python, R, "
   ]
  },
  {
   "cell_type": "code",
   "execution_count": 52,
   "metadata": {},
   "outputs": [
    {
     "name": "stdout",
     "output_type": "stream",
     "text": [
      "Data Mining\n"
     ]
    }
   ],
   "source": [
    "str = \"Data Mining\\xa0\\xa0\\xa0\\xa0\\xa0\\xa0\\xa0\\xa0\\xa0\\xa0\"\n",
    "\n",
    "test = str.replace(\"\\xa0\", '')\n",
    "\n",
    "print(test)"
   ]
  }
 ],
 "metadata": {
  "kernelspec": {
   "display_name": "Python 3",
   "language": "python",
   "name": "python3"
  },
  "language_info": {
   "codemirror_mode": {
    "name": "ipython",
    "version": 3
   },
   "file_extension": ".py",
   "mimetype": "text/x-python",
   "name": "python",
   "nbconvert_exporter": "python",
   "pygments_lexer": "ipython3",
   "version": "3.10.2"
  },
  "orig_nbformat": 4
 },
 "nbformat": 4,
 "nbformat_minor": 2
}
