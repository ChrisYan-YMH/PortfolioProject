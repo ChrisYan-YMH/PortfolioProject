{
 "cells": [
  {
   "attachments": {},
   "cell_type": "markdown",
   "metadata": {},
   "source": [
    "# Import packages "
   ]
  },
  {
   "cell_type": "code",
   "execution_count": 1,
   "metadata": {},
   "outputs": [],
   "source": [
    "import pandas as pd\n",
    "import numpy as np"
   ]
  },
  {
   "attachments": {},
   "cell_type": "markdown",
   "metadata": {},
   "source": [
    "# Read the .csv"
   ]
  },
  {
   "cell_type": "code",
   "execution_count": 2,
   "metadata": {},
   "outputs": [
    {
     "data": {
      "text/html": [
       "<div>\n",
       "<style scoped>\n",
       "    .dataframe tbody tr th:only-of-type {\n",
       "        vertical-align: middle;\n",
       "    }\n",
       "\n",
       "    .dataframe tbody tr th {\n",
       "        vertical-align: top;\n",
       "    }\n",
       "\n",
       "    .dataframe thead th {\n",
       "        text-align: right;\n",
       "    }\n",
       "</style>\n",
       "<table border=\"1\" class=\"dataframe\">\n",
       "  <thead>\n",
       "    <tr style=\"text-align: right;\">\n",
       "      <th></th>\n",
       "      <th>Job_Title</th>\n",
       "      <th>Location</th>\n",
       "      <th>Job_Highlight</th>\n",
       "      <th>JRJD</th>\n",
       "      <th>Company_Name</th>\n",
       "    </tr>\n",
       "  </thead>\n",
       "  <tbody>\n",
       "    <tr>\n",
       "      <th>0</th>\n",
       "      <td>ASSISTANT MANAGER - DATA ANALYTICS</td>\n",
       "      <td>Wan Chai</td>\n",
       "      <td>['Min 5-7 years’ experience in data analytics'...</td>\n",
       "      <td>['RequirementsBachelor degree in Computer Scie...</td>\n",
       "      <td>Sun Hung Kai Properties</td>\n",
       "    </tr>\n",
       "    <tr>\n",
       "      <th>1</th>\n",
       "      <td>IT Assistant (Data Management)</td>\n",
       "      <td>Mong Kok</td>\n",
       "      <td>['5-days work, bank holiday', 'Data administra...</td>\n",
       "      <td>['Job Responsibilities:To perform regular upda...</td>\n",
       "      <td>EIDEALINK LIMITED</td>\n",
       "    </tr>\n",
       "    <tr>\n",
       "      <th>2</th>\n",
       "      <td>Associate Vice President, Dashboard Reporting ...</td>\n",
       "      <td>Wan Chai</td>\n",
       "      <td>['Degree in Statistics, Business Analysis or r...</td>\n",
       "      <td>['ResponsibilitiesDirect report to Chief Analy...</td>\n",
       "      <td>United Asia Finance Limited</td>\n",
       "    </tr>\n",
       "    <tr>\n",
       "      <th>3</th>\n",
       "      <td>Data Center Customer Operations Engineer / Fie...</td>\n",
       "      <td>Tsuen Wan Area</td>\n",
       "      <td>['Open to Fresh Graduate applicants', 'Operati...</td>\n",
       "      <td>['Who are we?Equinix is one of the fastest gro...</td>\n",
       "      <td>Equinix Hong Kong Ltd</td>\n",
       "    </tr>\n",
       "    <tr>\n",
       "      <th>4</th>\n",
       "      <td>IT Data Centre Operator</td>\n",
       "      <td>Tsuen Wan Area</td>\n",
       "      <td>['Monitor &amp; manage data center facilities', 'F...</td>\n",
       "      <td>['\\xa0What you’ll be doing?Perform activities ...</td>\n",
       "      <td>OCBC Wing Hang Bank Limited</td>\n",
       "    </tr>\n",
       "  </tbody>\n",
       "</table>\n",
       "</div>"
      ],
      "text/plain": [
       "                                           Job_Title        Location  \\\n",
       "0                 ASSISTANT MANAGER - DATA ANALYTICS        Wan Chai   \n",
       "1                     IT Assistant (Data Management)        Mong Kok   \n",
       "2  Associate Vice President, Dashboard Reporting ...        Wan Chai   \n",
       "3  Data Center Customer Operations Engineer / Fie...  Tsuen Wan Area   \n",
       "4                            IT Data Centre Operator  Tsuen Wan Area   \n",
       "\n",
       "                                       Job_Highlight  \\\n",
       "0  ['Min 5-7 years’ experience in data analytics'...   \n",
       "1  ['5-days work, bank holiday', 'Data administra...   \n",
       "2  ['Degree in Statistics, Business Analysis or r...   \n",
       "3  ['Open to Fresh Graduate applicants', 'Operati...   \n",
       "4  ['Monitor & manage data center facilities', 'F...   \n",
       "\n",
       "                                                JRJD  \\\n",
       "0  ['RequirementsBachelor degree in Computer Scie...   \n",
       "1  ['Job Responsibilities:To perform regular upda...   \n",
       "2  ['ResponsibilitiesDirect report to Chief Analy...   \n",
       "3  ['Who are we?Equinix is one of the fastest gro...   \n",
       "4  ['\\xa0What you’ll be doing?Perform activities ...   \n",
       "\n",
       "                  Company_Name  \n",
       "0      Sun Hung Kai Properties  \n",
       "1            EIDEALINK LIMITED  \n",
       "2  United Asia Finance Limited  \n",
       "3        Equinix Hong Kong Ltd  \n",
       "4  OCBC Wing Hang Bank Limited  "
      ]
     },
     "execution_count": 2,
     "metadata": {},
     "output_type": "execute_result"
    }
   ],
   "source": [
    "df_job = pd.read_csv('DataJob.csv', encoding='utf-8-sig')\n",
    "df_job.head()"
   ]
  },
  {
   "cell_type": "code",
   "execution_count": 3,
   "metadata": {},
   "outputs": [],
   "source": [
    "df_copy = df_job.copy()"
   ]
  },
  {
   "attachments": {},
   "cell_type": "markdown",
   "metadata": {},
   "source": [
    "# Data cleaning"
   ]
  },
  {
   "cell_type": "code",
   "execution_count": 29,
   "metadata": {},
   "outputs": [],
   "source": [
    "#Smooth out those wastes\n",
    "\n",
    "df_copy['JRJD'] = df_copy['JRJD'].apply(lambda x: x.replace('Requirements',' '))\n",
    "df_copy['JRJD'] = df_copy['JRJD'].apply(lambda x: x.replace('Responsibilities',' '))\n",
    "df_copy['JRJD'] = df_copy['JRJD'].apply(lambda x: x.replace('Responsibility',' '))\n",
    "df_copy['JRJD'] = df_copy['JRJD'].apply(lambda x: x.replace('[''',' '))\n",
    "df_copy['JRJD'] = df_copy['JRJD'].apply(lambda x: x.replace(\"'\",' '))\n",
    "df_copy['JRJD'] = df_copy['JRJD'].apply(lambda x: x.replace(']''',' '))\n",
    "\n",
    "df_copy['Job_Highlight'] = df_copy['Job_Highlight'].apply(lambda x: x.replace('[''',' '))\n",
    "df_copy['Job_Highlight'] = df_copy['Job_Highlight'].apply(lambda x: x.replace(']''',' '))\n",
    "df_copy['Job_Highlight'] = df_copy['Job_Highlight'].apply(lambda x: x.replace(\"'\",' '))\n",
    "df_copy['Job_Highlight'] = df_copy['Job_Highlight'].apply(lambda x: x.replace(\"yrs\",' years'))\n",
    "df_copy['Job_Highlight'] = df_copy['Job_Highlight'].apply(lambda x: x.replace(\"years’\",'years'))\n",
    "df_copy['Job_Highlight'] = df_copy['Job_Highlight'].apply(lambda x: x.replace(\"experiences\",' experience'))"
   ]
  },
  {
   "cell_type": "code",
   "execution_count": 30,
   "metadata": {},
   "outputs": [],
   "source": [
    "lst_jrjd = df_copy.JRJD.tolist()\n",
    "lst_jobhighligh = df_copy.Job_Highlight.tolist()"
   ]
  },
  {
   "cell_type": "code",
   "execution_count": 31,
   "metadata": {},
   "outputs": [
    {
     "data": {
      "text/plain": [
       "['  Min 5-7  years experience in data analytics ,  Data analytics of loyalty program ,  Proficiency in Tableau & SQL programming  ',\n",
       " '  5-days work, bank holiday ,  Data administration and inventory management ,  1-2 years working experience  ',\n",
       " '  Degree in Statistics, Business Analysis or related ,  10+ years in business intelligence/ data vis. tools ,  Double pay and discretionary bonus  ',\n",
       " '  Open to Fresh Graduate applicants ,  Operation support to data centre operation ,  World Leading Enterprise in Data Center industry  ']"
      ]
     },
     "execution_count": 31,
     "metadata": {},
     "output_type": "execute_result"
    }
   ],
   "source": [
    "lst_jobhighligh[:4]"
   ]
  },
  {
   "attachments": {},
   "cell_type": "markdown",
   "metadata": {},
   "source": [
    "# NLP Process for job highlight"
   ]
  },
  {
   "cell_type": "code",
   "execution_count": 12,
   "metadata": {},
   "outputs": [],
   "source": [
    "import spacy\n",
    "import re"
   ]
  },
  {
   "cell_type": "code",
   "execution_count": 8,
   "metadata": {},
   "outputs": [],
   "source": [
    "\n",
    "\n",
    "# Min 5-7 years’\n",
    "# 1-2 years working experience\n",
    "# 10+ years\n",
    "\n",
    "#pattern = [\n",
    "#    {\"label\":\"EXPERIENCE\", \n",
    "#    \"pattern\" : [ {\"LOWER\": 'min', \"OP\": '?'} ,  \n",
    "#            {\"IS_DIGIT\" : True},\n",
    "#            {\"IS_PUNCT\" : True, \"OP\" : \"?\"},\n",
    "#            {\"IS_DIGIT\" : True, \"OP\" : \"?\"},\n",
    "#            {\"TEXT\" : \"+\", \"OP\" : \"?\"},\n",
    "#            {'IS_ALPHA' : True, \"OP\" : \"*\"}\n",
    "#            {\"LEMMA\" : \"year\", \"LOWER\" : \"years\",\"OP\" : \"?\"}\n",
    "#            {\"LOWER\" : \"experience\", \"OP\" : \"?\"}\n",
    "#            ]\n",
    "#        }\n",
    "#    ]"
   ]
  },
  {
   "cell_type": "code",
   "execution_count": 46,
   "metadata": {},
   "outputs": [],
   "source": [
    "nlp = spacy.blank('en')\n",
    "ruler = nlp.add_pipe(\"lemmatizer\")\n",
    "ruler = nlp.add_pipe('entity_ruler')\n",
    "\n",
    "patterns = [\n",
    "    {\"label\":\"EXPERIENCE\", \n",
    "    \"pattern\" : [ {\"LOWER\": 'min', \"OP\": '?'} ,  \n",
    "            {\"IS_DIGIT\" : True},\n",
    "            {\"IS_PUNCT\" : True, \"OP\" : \"?\"},\n",
    "            {\"IS_DIGIT\" : True, \"OP\" : \"?\"},\n",
    "            {\"TEXT\" : \"+\", \"OP\" : \"?\"},\n",
    "            {'IS_ALPHA' : True, \"OP\" : \"*\"},\n",
    "            {\"LEMMA\" : \"year\", \"LOWER\" : \"years\",\"OP\" : \"?\"},\n",
    "            {\"LOWER\" : \"experience\", \"OP\" : \"?\"}\n",
    "            ]\n",
    "        }\n",
    "    ]\n",
    "\n",
    "ruler.add_patterns(patterns)"
   ]
  },
  {
   "cell_type": "code",
   "execution_count": 47,
   "metadata": {},
   "outputs": [
    {
     "data": {
      "text/plain": [
       "  Min 5-7  years experience in data analytics ,  Data analytics of loyalty program ,  Proficiency in Tableau & SQL programming  "
      ]
     },
     "execution_count": 47,
     "metadata": {},
     "output_type": "execute_result"
    }
   ],
   "source": [
    "nlp2 = spacy.load(\"en_core_web_sm\")\n",
    "\n",
    "text = lst_jobhighligh[0]\n",
    "nlp2(text)"
   ]
  }
 ],
 "metadata": {
  "kernelspec": {
   "display_name": "Python 3",
   "language": "python",
   "name": "python3"
  },
  "language_info": {
   "codemirror_mode": {
    "name": "ipython",
    "version": 3
   },
   "file_extension": ".py",
   "mimetype": "text/x-python",
   "name": "python",
   "nbconvert_exporter": "python",
   "pygments_lexer": "ipython3",
   "version": "3.10.2"
  },
  "orig_nbformat": 4
 },
 "nbformat": 4,
 "nbformat_minor": 2
}
