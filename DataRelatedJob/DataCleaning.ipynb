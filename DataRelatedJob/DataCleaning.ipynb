{
 "cells": [
  {
   "cell_type": "code",
   "execution_count": 1,
   "metadata": {},
   "outputs": [],
   "source": [
    "import pandas as pd\n",
    "import numpy as np "
   ]
  },
  {
   "cell_type": "code",
   "execution_count": 25,
   "metadata": {},
   "outputs": [
    {
     "data": {
      "text/html": [
       "<div>\n",
       "<style scoped>\n",
       "    .dataframe tbody tr th:only-of-type {\n",
       "        vertical-align: middle;\n",
       "    }\n",
       "\n",
       "    .dataframe tbody tr th {\n",
       "        vertical-align: top;\n",
       "    }\n",
       "\n",
       "    .dataframe thead th {\n",
       "        text-align: right;\n",
       "    }\n",
       "</style>\n",
       "<table border=\"1\" class=\"dataframe\">\n",
       "  <thead>\n",
       "    <tr style=\"text-align: right;\">\n",
       "      <th></th>\n",
       "      <th>Job_Title</th>\n",
       "      <th>Location</th>\n",
       "      <th>Job_Highlight</th>\n",
       "      <th>JRJD</th>\n",
       "      <th>Company_Name</th>\n",
       "    </tr>\n",
       "  </thead>\n",
       "  <tbody>\n",
       "    <tr>\n",
       "      <th>0</th>\n",
       "      <td>ASSISTANT MANAGER - DATA ANALYTICS</td>\n",
       "      <td>Wan Chai</td>\n",
       "      <td>['Min 5-7 years’ experience in data analytics'...</td>\n",
       "      <td>['RequirementsBachelor degree in Computer Scie...</td>\n",
       "      <td>Sun Hung Kai Properties</td>\n",
       "    </tr>\n",
       "    <tr>\n",
       "      <th>1</th>\n",
       "      <td>IT Assistant (Data Management)</td>\n",
       "      <td>Mong Kok</td>\n",
       "      <td>['5-days work, bank holiday', 'Data administra...</td>\n",
       "      <td>['Job Responsibilities:To perform regular upda...</td>\n",
       "      <td>EIDEALINK LIMITED</td>\n",
       "    </tr>\n",
       "    <tr>\n",
       "      <th>2</th>\n",
       "      <td>Associate Vice President, Dashboard Reporting ...</td>\n",
       "      <td>Wan Chai</td>\n",
       "      <td>['Degree in Statistics, Business Analysis or r...</td>\n",
       "      <td>['ResponsibilitiesDirect report to Chief Analy...</td>\n",
       "      <td>United Asia Finance Limited</td>\n",
       "    </tr>\n",
       "    <tr>\n",
       "      <th>3</th>\n",
       "      <td>Data Center Customer Operations Engineer / Fie...</td>\n",
       "      <td>Tsuen Wan Area</td>\n",
       "      <td>['Open to Fresh Graduate applicants', 'Operati...</td>\n",
       "      <td>['Who are we?Equinix is one of the fastest gro...</td>\n",
       "      <td>Equinix Hong Kong Ltd</td>\n",
       "    </tr>\n",
       "    <tr>\n",
       "      <th>4</th>\n",
       "      <td>IT Data Centre Operator</td>\n",
       "      <td>Tsuen Wan Area</td>\n",
       "      <td>['Monitor &amp; manage data center facilities', 'F...</td>\n",
       "      <td>['\\xa0What you’ll be doing?Perform activities ...</td>\n",
       "      <td>OCBC Wing Hang Bank Limited</td>\n",
       "    </tr>\n",
       "  </tbody>\n",
       "</table>\n",
       "</div>"
      ],
      "text/plain": [
       "                                           Job_Title        Location  \\\n",
       "0                 ASSISTANT MANAGER - DATA ANALYTICS        Wan Chai   \n",
       "1                     IT Assistant (Data Management)        Mong Kok   \n",
       "2  Associate Vice President, Dashboard Reporting ...        Wan Chai   \n",
       "3  Data Center Customer Operations Engineer / Fie...  Tsuen Wan Area   \n",
       "4                            IT Data Centre Operator  Tsuen Wan Area   \n",
       "\n",
       "                                       Job_Highlight  \\\n",
       "0  ['Min 5-7 years’ experience in data analytics'...   \n",
       "1  ['5-days work, bank holiday', 'Data administra...   \n",
       "2  ['Degree in Statistics, Business Analysis or r...   \n",
       "3  ['Open to Fresh Graduate applicants', 'Operati...   \n",
       "4  ['Monitor & manage data center facilities', 'F...   \n",
       "\n",
       "                                                JRJD  \\\n",
       "0  ['RequirementsBachelor degree in Computer Scie...   \n",
       "1  ['Job Responsibilities:To perform regular upda...   \n",
       "2  ['ResponsibilitiesDirect report to Chief Analy...   \n",
       "3  ['Who are we?Equinix is one of the fastest gro...   \n",
       "4  ['\\xa0What you’ll be doing?Perform activities ...   \n",
       "\n",
       "                  Company_Name  \n",
       "0      Sun Hung Kai Properties  \n",
       "1            EIDEALINK LIMITED  \n",
       "2  United Asia Finance Limited  \n",
       "3        Equinix Hong Kong Ltd  \n",
       "4  OCBC Wing Hang Bank Limited  "
      ]
     },
     "execution_count": 25,
     "metadata": {},
     "output_type": "execute_result"
    }
   ],
   "source": [
    "df = pd.read_csv('DataJob.csv', encoding=\"utf-8-sig\")\n",
    "\n",
    "df.head()"
   ]
  },
  {
   "cell_type": "code",
   "execution_count": 27,
   "metadata": {},
   "outputs": [],
   "source": [
    "df_copy= df.copy()"
   ]
  },
  {
   "cell_type": "code",
   "execution_count": 28,
   "metadata": {},
   "outputs": [
    {
     "data": {
      "text/html": [
       "<div>\n",
       "<style scoped>\n",
       "    .dataframe tbody tr th:only-of-type {\n",
       "        vertical-align: middle;\n",
       "    }\n",
       "\n",
       "    .dataframe tbody tr th {\n",
       "        vertical-align: top;\n",
       "    }\n",
       "\n",
       "    .dataframe thead th {\n",
       "        text-align: right;\n",
       "    }\n",
       "</style>\n",
       "<table border=\"1\" class=\"dataframe\">\n",
       "  <thead>\n",
       "    <tr style=\"text-align: right;\">\n",
       "      <th></th>\n",
       "      <th>Job_Title</th>\n",
       "      <th>Location</th>\n",
       "      <th>Job_Highlight</th>\n",
       "      <th>JRJD</th>\n",
       "      <th>Company_Name</th>\n",
       "    </tr>\n",
       "  </thead>\n",
       "  <tbody>\n",
       "    <tr>\n",
       "      <th>0</th>\n",
       "      <td>ASSISTANT MANAGER - DATA ANALYTICS</td>\n",
       "      <td>Wan Chai</td>\n",
       "      <td>Min 5-7 years’ experience in data analytics, ...</td>\n",
       "      <td>Requirement s Bachelor  degree in Computer Sc...</td>\n",
       "      <td>Sun Hung Kai Properties</td>\n",
       "    </tr>\n",
       "    <tr>\n",
       "      <th>1</th>\n",
       "      <td>IT Assistant (Data Management)</td>\n",
       "      <td>Mong Kok</td>\n",
       "      <td>5-days work, bank holiday, Data ad ministratio...</td>\n",
       "      <td>Job Responsibilities : To perform regular upd...</td>\n",
       "      <td>EIDEALINK LIMITED</td>\n",
       "    </tr>\n",
       "    <tr>\n",
       "      <th>2</th>\n",
       "      <td>Associate Vice President, Dashboard Reporting ...</td>\n",
       "      <td>Wan Chai</td>\n",
       "      <td>Degree in Statistics, Business Analysis or re...</td>\n",
       "      <td>Responsibilities Direct report to Chief Analy...</td>\n",
       "      <td>United Asia Finance Limited</td>\n",
       "    </tr>\n",
       "    <tr>\n",
       "      <th>3</th>\n",
       "      <td>Data Center Customer Operations Engineer / Fie...</td>\n",
       "      <td>Tsuen Wan Area</td>\n",
       "      <td>Open to  Fresh Graduate applicants, Operation ...</td>\n",
       "      <td>Who are we? Equinix is one of the fastest gro...</td>\n",
       "      <td>Equinix Hong Kong Ltd</td>\n",
       "    </tr>\n",
       "    <tr>\n",
       "      <th>4</th>\n",
       "      <td>IT Data Centre Operator</td>\n",
       "      <td>Tsuen Wan Area</td>\n",
       "      <td>Monitor &amp; manage data center facilities,  Fres...</td>\n",
       "      <td>What you’ll be doing? Perform activities for...</td>\n",
       "      <td>OCBC Wing Hang Bank Limited</td>\n",
       "    </tr>\n",
       "  </tbody>\n",
       "</table>\n",
       "</div>"
      ],
      "text/plain": [
       "                                           Job_Title        Location  \\\n",
       "0                 ASSISTANT MANAGER - DATA ANALYTICS        Wan Chai   \n",
       "1                     IT Assistant (Data Management)        Mong Kok   \n",
       "2  Associate Vice President, Dashboard Reporting ...        Wan Chai   \n",
       "3  Data Center Customer Operations Engineer / Fie...  Tsuen Wan Area   \n",
       "4                            IT Data Centre Operator  Tsuen Wan Area   \n",
       "\n",
       "                                       Job_Highlight  \\\n",
       "0   Min 5-7 years’ experience in data analytics, ...   \n",
       "1  5-days work, bank holiday, Data ad ministratio...   \n",
       "2   Degree in Statistics, Business Analysis or re...   \n",
       "3  Open to  Fresh Graduate applicants, Operation ...   \n",
       "4  Monitor & manage data center facilities,  Fres...   \n",
       "\n",
       "                                                JRJD  \\\n",
       "0   Requirement s Bachelor  degree in Computer Sc...   \n",
       "1   Job Responsibilities : To perform regular upd...   \n",
       "2   Responsibilities Direct report to Chief Analy...   \n",
       "3   Who are we? Equinix is one of the fastest gro...   \n",
       "4    What you’ll be doing? Perform activities for...   \n",
       "\n",
       "                  Company_Name  \n",
       "0      Sun Hung Kai Properties  \n",
       "1            EIDEALINK LIMITED  \n",
       "2  United Asia Finance Limited  \n",
       "3        Equinix Hong Kong Ltd  \n",
       "4  OCBC Wing Hang Bank Limited  "
      ]
     },
     "execution_count": 28,
     "metadata": {},
     "output_type": "execute_result"
    }
   ],
   "source": [
    "lst = [\n",
    "    \"Requirements\", \"Requirement\", \"Responsibilities\", \"Responsibility\", \"['\", \"]\", \"\\xa0\",\n",
    "    \"\\\\xa0\", \"\\\\u200b\", \":\", '[\"', 'summary', '?', 'disciplinary', 'disciplines', 'discipline', \"/\", \";\",\n",
    "    '”', \"\\\\\\'\", \"\\'\"\n",
    "    ]\n",
    "\n",
    "for y in lst:\n",
    "    if y in [\"\\xa0\",\"\\\\xa0\", \"\\\\u200b\",  \"\\\\\\'\", \"\\'\", \"['\", '[\"']:\n",
    "        df_copy['JRJD'] = df_copy['JRJD'].apply(lambda x : x.replace(y, ' '))\n",
    "        df_copy['Job_Highlight'] = df_copy['Job_Highlight'].apply(lambda x : x.replace(y, ''))\n",
    "    else:\n",
    "        df_copy['JRJD'] = df_copy['JRJD'].apply(lambda x : x.replace(y, y+ ' '))\n",
    "        df_copy['Job_Highlight'] = df_copy['Job_Highlight'].apply(lambda x : x.replace(y, y+' '))\n",
    "\n",
    "    \n",
    "\n",
    "lst = ['Fresh', 'fresh', 'university', 'University', 'min', 'over', 'Min', 'Over', 'degree', 'Degree']\n",
    "\n",
    "for y in lst:\n",
    "    df_copy['JRJD'] = df_copy['JRJD'].apply(lambda x : x.replace(y, ' ' + y))\n",
    "    df_copy['Job_Highlight'] = df_copy['Job_Highlight'].apply(lambda x : x.replace(y, ' ' + y))\n",
    "\n",
    "df_copy['Job_Highlight'] = df_copy['Job_Highlight'].apply(lambda x : x.replace('year(s)', 'year' ))\n",
    "df_copy['JRJD'] = df_copy['JRJD'].apply(lambda x : x.replace('year(s)', 'year' ))\n",
    "\n",
    "\n",
    "\n",
    "df_copy.head()"
   ]
  },
  {
   "cell_type": "code",
   "execution_count": 29,
   "metadata": {},
   "outputs": [],
   "source": [
    "hightlight = df_copy.Job_Highlight.tolist()\n",
    "JRJD = df_copy.JRJD.tolist()"
   ]
  },
  {
   "cell_type": "code",
   "execution_count": 7,
   "metadata": {},
   "outputs": [],
   "source": [
    "import spacy"
   ]
  },
  {
   "cell_type": "code",
   "execution_count": 9,
   "metadata": {},
   "outputs": [],
   "source": [
    "nlp = spacy.load(\"en_core_web_sm\")"
   ]
  },
  {
   "cell_type": "code",
   "execution_count": 30,
   "metadata": {},
   "outputs": [],
   "source": [
    "lst_highlight=[]\n",
    "lst_jrjd=[]\n",
    "\n",
    "# Remove unneccessary space behind or in front of each sentence which can potentitally harm the ability of recoginzation of spacy\n",
    "for i, text in enumerate (hightlight):\n",
    "    paragraph = nlp(text)\n",
    "\n",
    "    lst_highlight.append([sentence.text + \" \" for sentence in paragraph.sents][0])\n",
    "\n",
    "for i, text in enumerate (JRJD):\n",
    "    paragraph = nlp(text)\n",
    "\n",
    "    lst_jrjd.append([sentence.text + \" \" for sentence in paragraph.sents][0])\n",
    "\n",
    "df_copy['JRJD'] = lst_jrjd\n",
    "df_copy['Job_Highlight'] = lst_highlight\n",
    "\n",
    "\n"
   ]
  },
  {
   "cell_type": "code",
   "execution_count": 36,
   "metadata": {},
   "outputs": [
    {
     "data": {
      "text/plain": [
       "' Requirement s Bachelor  degree in Computer Science, Information System, Information Management, Quantitative Analysis, Statistics, IT or related discipline  Minimum 5-7 years’ experience in data analytics, business insights, customer segmentation, data segmentation of loyalty programs in fast-paced industriesProficiency in Tableau & SQL program ming (e.g. MySQL, PostgreSQL etc). '"
      ]
     },
     "execution_count": 36,
     "metadata": {},
     "output_type": "execute_result"
    }
   ],
   "source": [
    "df_copy['JRJD'][0]"
   ]
  },
  {
   "cell_type": "code",
   "execution_count": 26,
   "metadata": {},
   "outputs": [],
   "source": [
    "df_copy.to_csv(\"Cleaned_DataJob.csv\", encoding=\"utf-8-sig\", index=False)"
   ]
  }
 ],
 "metadata": {
  "kernelspec": {
   "display_name": "Python 3",
   "language": "python",
   "name": "python3"
  },
  "language_info": {
   "codemirror_mode": {
    "name": "ipython",
    "version": 3
   },
   "file_extension": ".py",
   "mimetype": "text/x-python",
   "name": "python",
   "nbconvert_exporter": "python",
   "pygments_lexer": "ipython3",
   "version": "3.10.2"
  },
  "orig_nbformat": 4
 },
 "nbformat": 4,
 "nbformat_minor": 2
}
